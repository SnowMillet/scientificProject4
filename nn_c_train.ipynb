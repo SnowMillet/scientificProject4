{
 "cells": [
  {
   "cell_type": "markdown",
   "metadata": {
    "pycharm": {
     "name": "#%% md\n"
    }
   },
   "source": [
    "# 神经网络模型："
   ]
  },
  {
   "cell_type": "code",
   "execution_count": 169,
   "metadata": {
    "pycharm": {
     "name": "#%%\n"
    }
   },
   "outputs": [
    {
     "name": "stdout",
     "output_type": "stream",
     "text": [
      "sk_c2_s0.1_b16_lr0.001_d0.5_e20\n",
      "models/model_sk_c2_s0.1_b16_lr0.001_d0.5_e20.pth\n",
      "True\n",
      "1\n",
      "GeForce MX150\n",
      "0\n"
     ]
    }
   ],
   "source": [
    "import torch\n",
    "\n",
    "class Para:\n",
    "    # tensor_board_log_dir = 'runs/exp0'\n",
    "    feature_column_start_name = 'ep_ratio_ttm'\n",
    "    feature_column_end_name = 'BR'\n",
    "\n",
    "    # 模型设置\n",
    "    device = torch.device(\"cuda:0\" if torch.cuda.is_available() else \"cpu\")\n",
    "    classification = 2 # 2, 3\n",
    "\n",
    "    # 权重\n",
    "    cross_weight = list()\n",
    "    if classification == 3:\n",
    "        cross_weight = [1.0, 1.0 ,1.0]\n",
    "    elif classification == 2:\n",
    "        cross_weight = [1.0, 1.0]\n",
    "    elif classification == 5:\n",
    "        cross_weight = [1.0, 1.0, 1.0, 1.0, 1.0]\n",
    "\n",
    "    batch_size = 16\n",
    "    lr = 1e-3\n",
    "    drop = 0.5\n",
    "    epochs = 20\n",
    "\n",
    "    # 数据集设置\n",
    "    month_in_sample = range(0, 1)\n",
    "    # month_test = range(36, 48)\n",
    "\n",
    "    percent_cv = 0.1 # 10% cross validation\n",
    "\n",
    "    data_path = 'data/sk_space_1d_rate_20d_17-21_pre'\n",
    "\n",
    "\n",
    "    seed = 2022\n",
    "    torch.manual_seed(seed)\n",
    "\n",
    "    info_str0 = data_path[5:7]+'_'+'c'+str(classification)+'_s'+str(percent_cv)\n",
    "    info_str1 = '_b'+str(batch_size)+'_lr'+str(lr)+'_d'+str(drop)+'_e'+str(epochs)\n",
    "    info_str = info_str0 + info_str1\n",
    "\n",
    "    save_model_path = 'models/'+'model_'+info_str+'.pth'\n",
    "\n",
    "para = Para()\n",
    "print(para.info_str)\n",
    "print(para.save_model_path)\n",
    "print(torch.cuda.is_available())\n",
    "print(torch.cuda.device_count())\n",
    "if torch.cuda.is_available():\n",
    "    print(torch.cuda.get_device_name(0))\n",
    "    print(torch.cuda.current_device())"
   ]
  },
  {
   "cell_type": "markdown",
   "metadata": {
    "pycharm": {
     "name": "#%% md\n"
    }
   },
   "source": [
    "### 构建训练集"
   ]
  },
  {
   "cell_type": "code",
   "execution_count": 170,
   "metadata": {
    "pycharm": {
     "name": "#%%\n"
    }
   },
   "outputs": [
    {
     "data": {
      "text/plain": "      return_bin order_book_id board_type sector_code  month        date  \\\n0            1.0   600376.XSHG  MainBoard  RealEstate      0  2017-01-03   \n1            1.0   600376.XSHG  MainBoard  RealEstate      1  2017-01-04   \n2            1.0   600376.XSHG  MainBoard  RealEstate      2  2017-01-05   \n3            0.0   600376.XSHG  MainBoard  RealEstate      3  2017-01-06   \n4            1.0   600376.XSHG  MainBoard  RealEstate      4  2017-01-09   \n...          ...           ...        ...         ...    ...         ...   \n1189         0.0   600376.XSHG  MainBoard  RealEstate   1192  2021-11-29   \n1190         0.0   600376.XSHG  MainBoard  RealEstate   1193  2021-11-30   \n1191         0.0   600376.XSHG  MainBoard  RealEstate   1194  2021-12-01   \n1192         0.0   600376.XSHG  MainBoard  RealEstate   1195  2021-12-02   \n1193         0.0   600376.XSHG  MainBoard  RealEstate   1196  2021-12-03   \n\n      yield_rate  ep_ratio_ttm  pb_ratio_ttm  sp_ratio_ttm  ...     RSI10  \\\n0      -0.235758     -1.411342      2.269983     -1.273296  ... -0.176158   \n1      -0.212666     -1.419161      2.312394     -1.280733  ...  0.563332   \n2      -0.012847     -1.415701      2.293545     -1.277441  ...  0.205077   \n3       0.008439     -1.417434      2.302970     -1.279090  ...  0.102341   \n4      -0.054613     -1.420023      2.317107     -1.281552  ...  0.818119   \n...          ...           ...           ...           ...  ...       ...   \n1189    2.146251      1.209308     -1.466971      3.029146  ...  0.019490   \n1190    2.398559      1.232542     -1.478548      3.062748  ... -0.058182   \n1191    2.238078      1.186366     -1.455393      2.995967  ...  0.530404   \n1192    2.176447      1.126572     -1.424521      2.909491  ...  0.998287   \n1193    2.246023      1.156221     -1.439957      2.952370  ...  0.469253   \n\n            SY    BIAS20     VOL30     VOL60    VOL120    VOLT20    VOLT60  \\\n0     1.939393 -0.343228  3.077250  2.097063  2.504830  0.386540  0.343156   \n1     1.939393 -0.123865  3.058393  2.052508  2.496684  0.328454  0.339311   \n2     1.267610 -0.129406  2.845400  2.009023  2.478314  0.140969  0.342943   \n3     1.939393 -0.032727  2.658063  1.981885  2.455540 -0.015838  0.342943   \n4     1.939393  0.093412  2.005796  1.972691  2.419643 -0.342537  0.340627   \n...        ...       ...       ...       ...       ...       ...       ...   \n1189 -0.747738  0.223932 -0.048353 -0.370257 -0.790084 -1.188693 -0.353637   \n1190 -0.747738  0.067898 -0.101384 -0.371908 -0.790859 -1.197434 -0.333250   \n1191 -0.075955  0.357910 -0.112933 -0.373548 -0.786568 -1.193840 -0.319589   \n1192 -0.075955  0.710331 -0.095406 -0.369987 -0.776094 -1.137295 -0.315319   \n1193 -0.075955  0.473663 -0.230882 -0.367559 -0.769096 -1.144598 -0.315042   \n\n            AR        BR  \n0    -0.477163 -1.110336  \n1    -0.623190 -1.059116  \n2    -0.661480 -0.998378  \n3    -0.541901 -0.971592  \n4    -1.345192 -1.570440  \n...        ...       ...  \n1189 -0.928837 -1.234122  \n1190 -0.439751 -0.827627  \n1191 -0.044396 -0.533675  \n1192  0.754954 -0.036107  \n1193  0.834565 -0.100327  \n\n[1194 rows x 23 columns]",
      "text/html": "<div>\n<style scoped>\n    .dataframe tbody tr th:only-of-type {\n        vertical-align: middle;\n    }\n\n    .dataframe tbody tr th {\n        vertical-align: top;\n    }\n\n    .dataframe thead th {\n        text-align: right;\n    }\n</style>\n<table border=\"1\" class=\"dataframe\">\n  <thead>\n    <tr style=\"text-align: right;\">\n      <th></th>\n      <th>return_bin</th>\n      <th>order_book_id</th>\n      <th>board_type</th>\n      <th>sector_code</th>\n      <th>month</th>\n      <th>date</th>\n      <th>yield_rate</th>\n      <th>ep_ratio_ttm</th>\n      <th>pb_ratio_ttm</th>\n      <th>sp_ratio_ttm</th>\n      <th>...</th>\n      <th>RSI10</th>\n      <th>SY</th>\n      <th>BIAS20</th>\n      <th>VOL30</th>\n      <th>VOL60</th>\n      <th>VOL120</th>\n      <th>VOLT20</th>\n      <th>VOLT60</th>\n      <th>AR</th>\n      <th>BR</th>\n    </tr>\n  </thead>\n  <tbody>\n    <tr>\n      <th>0</th>\n      <td>1.0</td>\n      <td>600376.XSHG</td>\n      <td>MainBoard</td>\n      <td>RealEstate</td>\n      <td>0</td>\n      <td>2017-01-03</td>\n      <td>-0.235758</td>\n      <td>-1.411342</td>\n      <td>2.269983</td>\n      <td>-1.273296</td>\n      <td>...</td>\n      <td>-0.176158</td>\n      <td>1.939393</td>\n      <td>-0.343228</td>\n      <td>3.077250</td>\n      <td>2.097063</td>\n      <td>2.504830</td>\n      <td>0.386540</td>\n      <td>0.343156</td>\n      <td>-0.477163</td>\n      <td>-1.110336</td>\n    </tr>\n    <tr>\n      <th>1</th>\n      <td>1.0</td>\n      <td>600376.XSHG</td>\n      <td>MainBoard</td>\n      <td>RealEstate</td>\n      <td>1</td>\n      <td>2017-01-04</td>\n      <td>-0.212666</td>\n      <td>-1.419161</td>\n      <td>2.312394</td>\n      <td>-1.280733</td>\n      <td>...</td>\n      <td>0.563332</td>\n      <td>1.939393</td>\n      <td>-0.123865</td>\n      <td>3.058393</td>\n      <td>2.052508</td>\n      <td>2.496684</td>\n      <td>0.328454</td>\n      <td>0.339311</td>\n      <td>-0.623190</td>\n      <td>-1.059116</td>\n    </tr>\n    <tr>\n      <th>2</th>\n      <td>1.0</td>\n      <td>600376.XSHG</td>\n      <td>MainBoard</td>\n      <td>RealEstate</td>\n      <td>2</td>\n      <td>2017-01-05</td>\n      <td>-0.012847</td>\n      <td>-1.415701</td>\n      <td>2.293545</td>\n      <td>-1.277441</td>\n      <td>...</td>\n      <td>0.205077</td>\n      <td>1.267610</td>\n      <td>-0.129406</td>\n      <td>2.845400</td>\n      <td>2.009023</td>\n      <td>2.478314</td>\n      <td>0.140969</td>\n      <td>0.342943</td>\n      <td>-0.661480</td>\n      <td>-0.998378</td>\n    </tr>\n    <tr>\n      <th>3</th>\n      <td>0.0</td>\n      <td>600376.XSHG</td>\n      <td>MainBoard</td>\n      <td>RealEstate</td>\n      <td>3</td>\n      <td>2017-01-06</td>\n      <td>0.008439</td>\n      <td>-1.417434</td>\n      <td>2.302970</td>\n      <td>-1.279090</td>\n      <td>...</td>\n      <td>0.102341</td>\n      <td>1.939393</td>\n      <td>-0.032727</td>\n      <td>2.658063</td>\n      <td>1.981885</td>\n      <td>2.455540</td>\n      <td>-0.015838</td>\n      <td>0.342943</td>\n      <td>-0.541901</td>\n      <td>-0.971592</td>\n    </tr>\n    <tr>\n      <th>4</th>\n      <td>1.0</td>\n      <td>600376.XSHG</td>\n      <td>MainBoard</td>\n      <td>RealEstate</td>\n      <td>4</td>\n      <td>2017-01-09</td>\n      <td>-0.054613</td>\n      <td>-1.420023</td>\n      <td>2.317107</td>\n      <td>-1.281552</td>\n      <td>...</td>\n      <td>0.818119</td>\n      <td>1.939393</td>\n      <td>0.093412</td>\n      <td>2.005796</td>\n      <td>1.972691</td>\n      <td>2.419643</td>\n      <td>-0.342537</td>\n      <td>0.340627</td>\n      <td>-1.345192</td>\n      <td>-1.570440</td>\n    </tr>\n    <tr>\n      <th>...</th>\n      <td>...</td>\n      <td>...</td>\n      <td>...</td>\n      <td>...</td>\n      <td>...</td>\n      <td>...</td>\n      <td>...</td>\n      <td>...</td>\n      <td>...</td>\n      <td>...</td>\n      <td>...</td>\n      <td>...</td>\n      <td>...</td>\n      <td>...</td>\n      <td>...</td>\n      <td>...</td>\n      <td>...</td>\n      <td>...</td>\n      <td>...</td>\n      <td>...</td>\n      <td>...</td>\n    </tr>\n    <tr>\n      <th>1189</th>\n      <td>0.0</td>\n      <td>600376.XSHG</td>\n      <td>MainBoard</td>\n      <td>RealEstate</td>\n      <td>1192</td>\n      <td>2021-11-29</td>\n      <td>2.146251</td>\n      <td>1.209308</td>\n      <td>-1.466971</td>\n      <td>3.029146</td>\n      <td>...</td>\n      <td>0.019490</td>\n      <td>-0.747738</td>\n      <td>0.223932</td>\n      <td>-0.048353</td>\n      <td>-0.370257</td>\n      <td>-0.790084</td>\n      <td>-1.188693</td>\n      <td>-0.353637</td>\n      <td>-0.928837</td>\n      <td>-1.234122</td>\n    </tr>\n    <tr>\n      <th>1190</th>\n      <td>0.0</td>\n      <td>600376.XSHG</td>\n      <td>MainBoard</td>\n      <td>RealEstate</td>\n      <td>1193</td>\n      <td>2021-11-30</td>\n      <td>2.398559</td>\n      <td>1.232542</td>\n      <td>-1.478548</td>\n      <td>3.062748</td>\n      <td>...</td>\n      <td>-0.058182</td>\n      <td>-0.747738</td>\n      <td>0.067898</td>\n      <td>-0.101384</td>\n      <td>-0.371908</td>\n      <td>-0.790859</td>\n      <td>-1.197434</td>\n      <td>-0.333250</td>\n      <td>-0.439751</td>\n      <td>-0.827627</td>\n    </tr>\n    <tr>\n      <th>1191</th>\n      <td>0.0</td>\n      <td>600376.XSHG</td>\n      <td>MainBoard</td>\n      <td>RealEstate</td>\n      <td>1194</td>\n      <td>2021-12-01</td>\n      <td>2.238078</td>\n      <td>1.186366</td>\n      <td>-1.455393</td>\n      <td>2.995967</td>\n      <td>...</td>\n      <td>0.530404</td>\n      <td>-0.075955</td>\n      <td>0.357910</td>\n      <td>-0.112933</td>\n      <td>-0.373548</td>\n      <td>-0.786568</td>\n      <td>-1.193840</td>\n      <td>-0.319589</td>\n      <td>-0.044396</td>\n      <td>-0.533675</td>\n    </tr>\n    <tr>\n      <th>1192</th>\n      <td>0.0</td>\n      <td>600376.XSHG</td>\n      <td>MainBoard</td>\n      <td>RealEstate</td>\n      <td>1195</td>\n      <td>2021-12-02</td>\n      <td>2.176447</td>\n      <td>1.126572</td>\n      <td>-1.424521</td>\n      <td>2.909491</td>\n      <td>...</td>\n      <td>0.998287</td>\n      <td>-0.075955</td>\n      <td>0.710331</td>\n      <td>-0.095406</td>\n      <td>-0.369987</td>\n      <td>-0.776094</td>\n      <td>-1.137295</td>\n      <td>-0.315319</td>\n      <td>0.754954</td>\n      <td>-0.036107</td>\n    </tr>\n    <tr>\n      <th>1193</th>\n      <td>0.0</td>\n      <td>600376.XSHG</td>\n      <td>MainBoard</td>\n      <td>RealEstate</td>\n      <td>1196</td>\n      <td>2021-12-03</td>\n      <td>2.246023</td>\n      <td>1.156221</td>\n      <td>-1.439957</td>\n      <td>2.952370</td>\n      <td>...</td>\n      <td>0.469253</td>\n      <td>-0.075955</td>\n      <td>0.473663</td>\n      <td>-0.230882</td>\n      <td>-0.367559</td>\n      <td>-0.769096</td>\n      <td>-1.144598</td>\n      <td>-0.315042</td>\n      <td>0.834565</td>\n      <td>-0.100327</td>\n    </tr>\n  </tbody>\n</table>\n<p>1194 rows × 23 columns</p>\n</div>"
     },
     "execution_count": 170,
     "metadata": {},
     "output_type": "execute_result"
    }
   ],
   "source": [
    "import numpy as np\n",
    "import pandas as pd\n",
    "\n",
    "data_in_sample = None\n",
    "for i_month in para.month_in_sample:\n",
    "    file_name = para.data_path + '/' + str(i_month) + '.csv'\n",
    "    data_curr_month = pd.read_csv(file_name)\n",
    "\n",
    "    data_curr_month = data_curr_month.dropna(axis=0)\n",
    "\n",
    "    data_curr_month.insert(loc=0, column='return_bin', value=np.nan)\n",
    "\n",
    "    data_curr_month.loc[data_curr_month['yield_rate']>0, 'return_bin'] = 0\n",
    "    data_curr_month.loc[data_curr_month['yield_rate']<=0, 'return_bin'] = 1\n",
    "\n",
    "    if i_month == para.month_in_sample[0]:\n",
    "        data_in_sample = data_curr_month\n",
    "    else:\n",
    "        data_in_sample = pd.concat([data_in_sample, data_curr_month])\n",
    "        # data_in_sample = data_in_sample.append(data_curr_month)\n",
    "\n",
    "data_in_sample"
   ]
  },
  {
   "cell_type": "code",
   "execution_count": 171,
   "metadata": {
    "pycharm": {
     "name": "#%%\n"
    }
   },
   "outputs": [
    {
     "data": {
      "text/plain": "      ep_ratio_ttm  pb_ratio_ttm  sp_ratio_ttm  MACD_DIFF  MACD_DEA  \\\n0        -1.411342      2.269983     -1.273296  -1.025096 -0.866096   \n1        -1.419161      2.312394     -1.280733  -0.923666 -0.893492   \n2        -1.415701      2.293545     -1.277441  -0.852875 -0.900033   \n3        -1.417434      2.302970     -1.279090  -0.774502 -0.888245   \n4        -1.420023      2.317107     -1.281552  -0.685683 -0.859525   \n...            ...           ...           ...        ...       ...   \n1069      0.865492     -1.035077      1.289191  -0.005168 -0.109375   \n1070      0.848154     -1.023156      1.270623   0.035801 -0.079734   \n1071      0.853913     -1.027130      1.276791   0.064486 -0.049791   \n1072      0.871313     -1.039051      1.295425   0.072421 -0.024114   \n1073      0.859693     -1.031103      1.282980   0.091003  0.000464   \n\n      MACD_HIST     RSI10        SY    BIAS20     VOL30     VOL60    VOL120  \\\n0     -0.652229 -0.176158  1.939393 -0.343228  3.077250  2.097063  2.504830   \n1     -0.290177  0.563332  1.939393 -0.123865  3.058393  2.052508  2.496684   \n2     -0.070599  0.205077  1.267610 -0.129406  2.845400  2.009023  2.478314   \n3      0.122402  0.102341  1.939393 -0.032727  2.658063  1.981885  2.455540   \n4      0.300690  0.818119  1.939393  0.093412  2.005796  1.972691  2.419643   \n...         ...       ...       ...       ...       ...       ...       ...   \n1069   0.271298  1.026958 -0.075955  0.431593 -0.109275 -0.466151 -0.773933   \n1070   0.310384  1.090179  0.595827  0.504560 -0.328337 -0.474823 -0.773665   \n1071   0.313559  1.090179 -0.075955  0.411834 -0.432338 -0.500946 -0.774325   \n1072   0.268650  0.497477 -0.075955  0.240095 -0.522253 -0.522041 -0.776736   \n1073   0.257071  0.652708 -0.075955  0.288732 -0.565593 -0.533050 -0.775647   \n\n        VOLT20    VOLT60        AR        BR  \n0     0.386540  0.343156 -0.477163 -1.110336  \n1     0.328454  0.339311 -0.623190 -1.059116  \n2     0.140969  0.342943 -0.661480 -0.998378  \n3    -0.015838  0.342943 -0.541901 -0.971592  \n4    -0.342537  0.340627 -1.345192 -1.570440  \n...        ...       ...       ...       ...  \n1069 -0.969268 -0.918862 -0.714858 -0.785255  \n1070 -0.990972 -0.924201 -0.401836 -0.627900  \n1071 -1.052036 -0.927824 -0.324829 -0.482743  \n1072 -1.180918 -0.933460 -0.261731 -0.653516  \n1073 -1.222433 -0.945410 -0.359947 -0.760148  \n\n[1074 rows x 16 columns]",
      "text/html": "<div>\n<style scoped>\n    .dataframe tbody tr th:only-of-type {\n        vertical-align: middle;\n    }\n\n    .dataframe tbody tr th {\n        vertical-align: top;\n    }\n\n    .dataframe thead th {\n        text-align: right;\n    }\n</style>\n<table border=\"1\" class=\"dataframe\">\n  <thead>\n    <tr style=\"text-align: right;\">\n      <th></th>\n      <th>ep_ratio_ttm</th>\n      <th>pb_ratio_ttm</th>\n      <th>sp_ratio_ttm</th>\n      <th>MACD_DIFF</th>\n      <th>MACD_DEA</th>\n      <th>MACD_HIST</th>\n      <th>RSI10</th>\n      <th>SY</th>\n      <th>BIAS20</th>\n      <th>VOL30</th>\n      <th>VOL60</th>\n      <th>VOL120</th>\n      <th>VOLT20</th>\n      <th>VOLT60</th>\n      <th>AR</th>\n      <th>BR</th>\n    </tr>\n  </thead>\n  <tbody>\n    <tr>\n      <th>0</th>\n      <td>-1.411342</td>\n      <td>2.269983</td>\n      <td>-1.273296</td>\n      <td>-1.025096</td>\n      <td>-0.866096</td>\n      <td>-0.652229</td>\n      <td>-0.176158</td>\n      <td>1.939393</td>\n      <td>-0.343228</td>\n      <td>3.077250</td>\n      <td>2.097063</td>\n      <td>2.504830</td>\n      <td>0.386540</td>\n      <td>0.343156</td>\n      <td>-0.477163</td>\n      <td>-1.110336</td>\n    </tr>\n    <tr>\n      <th>1</th>\n      <td>-1.419161</td>\n      <td>2.312394</td>\n      <td>-1.280733</td>\n      <td>-0.923666</td>\n      <td>-0.893492</td>\n      <td>-0.290177</td>\n      <td>0.563332</td>\n      <td>1.939393</td>\n      <td>-0.123865</td>\n      <td>3.058393</td>\n      <td>2.052508</td>\n      <td>2.496684</td>\n      <td>0.328454</td>\n      <td>0.339311</td>\n      <td>-0.623190</td>\n      <td>-1.059116</td>\n    </tr>\n    <tr>\n      <th>2</th>\n      <td>-1.415701</td>\n      <td>2.293545</td>\n      <td>-1.277441</td>\n      <td>-0.852875</td>\n      <td>-0.900033</td>\n      <td>-0.070599</td>\n      <td>0.205077</td>\n      <td>1.267610</td>\n      <td>-0.129406</td>\n      <td>2.845400</td>\n      <td>2.009023</td>\n      <td>2.478314</td>\n      <td>0.140969</td>\n      <td>0.342943</td>\n      <td>-0.661480</td>\n      <td>-0.998378</td>\n    </tr>\n    <tr>\n      <th>3</th>\n      <td>-1.417434</td>\n      <td>2.302970</td>\n      <td>-1.279090</td>\n      <td>-0.774502</td>\n      <td>-0.888245</td>\n      <td>0.122402</td>\n      <td>0.102341</td>\n      <td>1.939393</td>\n      <td>-0.032727</td>\n      <td>2.658063</td>\n      <td>1.981885</td>\n      <td>2.455540</td>\n      <td>-0.015838</td>\n      <td>0.342943</td>\n      <td>-0.541901</td>\n      <td>-0.971592</td>\n    </tr>\n    <tr>\n      <th>4</th>\n      <td>-1.420023</td>\n      <td>2.317107</td>\n      <td>-1.281552</td>\n      <td>-0.685683</td>\n      <td>-0.859525</td>\n      <td>0.300690</td>\n      <td>0.818119</td>\n      <td>1.939393</td>\n      <td>0.093412</td>\n      <td>2.005796</td>\n      <td>1.972691</td>\n      <td>2.419643</td>\n      <td>-0.342537</td>\n      <td>0.340627</td>\n      <td>-1.345192</td>\n      <td>-1.570440</td>\n    </tr>\n    <tr>\n      <th>...</th>\n      <td>...</td>\n      <td>...</td>\n      <td>...</td>\n      <td>...</td>\n      <td>...</td>\n      <td>...</td>\n      <td>...</td>\n      <td>...</td>\n      <td>...</td>\n      <td>...</td>\n      <td>...</td>\n      <td>...</td>\n      <td>...</td>\n      <td>...</td>\n      <td>...</td>\n      <td>...</td>\n    </tr>\n    <tr>\n      <th>1069</th>\n      <td>0.865492</td>\n      <td>-1.035077</td>\n      <td>1.289191</td>\n      <td>-0.005168</td>\n      <td>-0.109375</td>\n      <td>0.271298</td>\n      <td>1.026958</td>\n      <td>-0.075955</td>\n      <td>0.431593</td>\n      <td>-0.109275</td>\n      <td>-0.466151</td>\n      <td>-0.773933</td>\n      <td>-0.969268</td>\n      <td>-0.918862</td>\n      <td>-0.714858</td>\n      <td>-0.785255</td>\n    </tr>\n    <tr>\n      <th>1070</th>\n      <td>0.848154</td>\n      <td>-1.023156</td>\n      <td>1.270623</td>\n      <td>0.035801</td>\n      <td>-0.079734</td>\n      <td>0.310384</td>\n      <td>1.090179</td>\n      <td>0.595827</td>\n      <td>0.504560</td>\n      <td>-0.328337</td>\n      <td>-0.474823</td>\n      <td>-0.773665</td>\n      <td>-0.990972</td>\n      <td>-0.924201</td>\n      <td>-0.401836</td>\n      <td>-0.627900</td>\n    </tr>\n    <tr>\n      <th>1071</th>\n      <td>0.853913</td>\n      <td>-1.027130</td>\n      <td>1.276791</td>\n      <td>0.064486</td>\n      <td>-0.049791</td>\n      <td>0.313559</td>\n      <td>1.090179</td>\n      <td>-0.075955</td>\n      <td>0.411834</td>\n      <td>-0.432338</td>\n      <td>-0.500946</td>\n      <td>-0.774325</td>\n      <td>-1.052036</td>\n      <td>-0.927824</td>\n      <td>-0.324829</td>\n      <td>-0.482743</td>\n    </tr>\n    <tr>\n      <th>1072</th>\n      <td>0.871313</td>\n      <td>-1.039051</td>\n      <td>1.295425</td>\n      <td>0.072421</td>\n      <td>-0.024114</td>\n      <td>0.268650</td>\n      <td>0.497477</td>\n      <td>-0.075955</td>\n      <td>0.240095</td>\n      <td>-0.522253</td>\n      <td>-0.522041</td>\n      <td>-0.776736</td>\n      <td>-1.180918</td>\n      <td>-0.933460</td>\n      <td>-0.261731</td>\n      <td>-0.653516</td>\n    </tr>\n    <tr>\n      <th>1073</th>\n      <td>0.859693</td>\n      <td>-1.031103</td>\n      <td>1.282980</td>\n      <td>0.091003</td>\n      <td>0.000464</td>\n      <td>0.257071</td>\n      <td>0.652708</td>\n      <td>-0.075955</td>\n      <td>0.288732</td>\n      <td>-0.565593</td>\n      <td>-0.533050</td>\n      <td>-0.775647</td>\n      <td>-1.222433</td>\n      <td>-0.945410</td>\n      <td>-0.359947</td>\n      <td>-0.760148</td>\n    </tr>\n  </tbody>\n</table>\n<p>1074 rows × 16 columns</p>\n</div>"
     },
     "execution_count": 171,
     "metadata": {},
     "output_type": "execute_result"
    }
   ],
   "source": [
    "X_in_sample = data_in_sample.loc[:, para.feature_column_start_name: para.feature_column_end_name]\n",
    "y_in_sample = data_in_sample.loc[:, 'return_bin']\n",
    "\n",
    "from sklearn.model_selection import train_test_split\n",
    "\n",
    "X_train, X_cv, y_train, y_cv = train_test_split(X_in_sample, y_in_sample, test_size=para.percent_cv, shuffle=False) # True, random_state=para.seed)\n",
    "# X_train, X_cv, y_train, y_cv = train_test_split(X_in_sample, y_in_sample, test_size=para.percent_cv, shuffle=False)\n",
    "\n",
    "X_train"
   ]
  },
  {
   "cell_type": "code",
   "execution_count": 172,
   "metadata": {
    "pycharm": {
     "name": "#%%\n"
    }
   },
   "outputs": [
    {
     "data": {
      "text/plain": "0       1.0\n1       1.0\n2       1.0\n3       0.0\n4       1.0\n       ... \n1069    1.0\n1070    1.0\n1071    1.0\n1072    0.0\n1073    1.0\nName: return_bin, Length: 1074, dtype: float64"
     },
     "execution_count": 172,
     "metadata": {},
     "output_type": "execute_result"
    }
   ],
   "source": [
    "y_train"
   ]
  },
  {
   "cell_type": "code",
   "execution_count": 173,
   "metadata": {
    "pycharm": {
     "name": "#%%\n"
    }
   },
   "outputs": [
    {
     "data": {
      "text/plain": "      ep_ratio_ttm  pb_ratio_ttm  sp_ratio_ttm  MACD_DIFF  MACD_DEA  \\\n0        -1.411342      2.269983     -1.273296  -1.025096 -0.866096   \n1        -1.419161      2.312394     -1.280733  -0.923666 -0.893492   \n2        -1.415701      2.293545     -1.277441  -0.852875 -0.900033   \n3        -1.417434      2.302970     -1.279090  -0.774502 -0.888245   \n4        -1.420023      2.317107     -1.281552  -0.685683 -0.859525   \n...            ...           ...           ...        ...       ...   \n1069      0.865492     -1.035077      1.289191  -0.005168 -0.109375   \n1070      0.848154     -1.023156      1.270623   0.035801 -0.079734   \n1071      0.853913     -1.027130      1.276791   0.064486 -0.049791   \n1072      0.871313     -1.039051      1.295425   0.072421 -0.024114   \n1073      0.859693     -1.031103      1.282980   0.091003  0.000464   \n\n      MACD_HIST     RSI10        SY    BIAS20     VOL30     VOL60    VOL120  \\\n0     -0.652229 -0.176158  1.939393 -0.343228  3.077250  2.097063  2.504830   \n1     -0.290177  0.563332  1.939393 -0.123865  3.058393  2.052508  2.496684   \n2     -0.070599  0.205077  1.267610 -0.129406  2.845400  2.009023  2.478314   \n3      0.122402  0.102341  1.939393 -0.032727  2.658063  1.981885  2.455540   \n4      0.300690  0.818119  1.939393  0.093412  2.005796  1.972691  2.419643   \n...         ...       ...       ...       ...       ...       ...       ...   \n1069   0.271298  1.026958 -0.075955  0.431593 -0.109275 -0.466151 -0.773933   \n1070   0.310384  1.090179  0.595827  0.504560 -0.328337 -0.474823 -0.773665   \n1071   0.313559  1.090179 -0.075955  0.411834 -0.432338 -0.500946 -0.774325   \n1072   0.268650  0.497477 -0.075955  0.240095 -0.522253 -0.522041 -0.776736   \n1073   0.257071  0.652708 -0.075955  0.288732 -0.565593 -0.533050 -0.775647   \n\n        VOLT20    VOLT60        AR        BR  return_bin  \n0     0.386540  0.343156 -0.477163 -1.110336         1.0  \n1     0.328454  0.339311 -0.623190 -1.059116         1.0  \n2     0.140969  0.342943 -0.661480 -0.998378         1.0  \n3    -0.015838  0.342943 -0.541901 -0.971592         0.0  \n4    -0.342537  0.340627 -1.345192 -1.570440         1.0  \n...        ...       ...       ...       ...         ...  \n1069 -0.969268 -0.918862 -0.714858 -0.785255         1.0  \n1070 -0.990972 -0.924201 -0.401836 -0.627900         1.0  \n1071 -1.052036 -0.927824 -0.324829 -0.482743         1.0  \n1072 -1.180918 -0.933460 -0.261731 -0.653516         0.0  \n1073 -1.222433 -0.945410 -0.359947 -0.760148         1.0  \n\n[1074 rows x 17 columns]",
      "text/html": "<div>\n<style scoped>\n    .dataframe tbody tr th:only-of-type {\n        vertical-align: middle;\n    }\n\n    .dataframe tbody tr th {\n        vertical-align: top;\n    }\n\n    .dataframe thead th {\n        text-align: right;\n    }\n</style>\n<table border=\"1\" class=\"dataframe\">\n  <thead>\n    <tr style=\"text-align: right;\">\n      <th></th>\n      <th>ep_ratio_ttm</th>\n      <th>pb_ratio_ttm</th>\n      <th>sp_ratio_ttm</th>\n      <th>MACD_DIFF</th>\n      <th>MACD_DEA</th>\n      <th>MACD_HIST</th>\n      <th>RSI10</th>\n      <th>SY</th>\n      <th>BIAS20</th>\n      <th>VOL30</th>\n      <th>VOL60</th>\n      <th>VOL120</th>\n      <th>VOLT20</th>\n      <th>VOLT60</th>\n      <th>AR</th>\n      <th>BR</th>\n      <th>return_bin</th>\n    </tr>\n  </thead>\n  <tbody>\n    <tr>\n      <th>0</th>\n      <td>-1.411342</td>\n      <td>2.269983</td>\n      <td>-1.273296</td>\n      <td>-1.025096</td>\n      <td>-0.866096</td>\n      <td>-0.652229</td>\n      <td>-0.176158</td>\n      <td>1.939393</td>\n      <td>-0.343228</td>\n      <td>3.077250</td>\n      <td>2.097063</td>\n      <td>2.504830</td>\n      <td>0.386540</td>\n      <td>0.343156</td>\n      <td>-0.477163</td>\n      <td>-1.110336</td>\n      <td>1.0</td>\n    </tr>\n    <tr>\n      <th>1</th>\n      <td>-1.419161</td>\n      <td>2.312394</td>\n      <td>-1.280733</td>\n      <td>-0.923666</td>\n      <td>-0.893492</td>\n      <td>-0.290177</td>\n      <td>0.563332</td>\n      <td>1.939393</td>\n      <td>-0.123865</td>\n      <td>3.058393</td>\n      <td>2.052508</td>\n      <td>2.496684</td>\n      <td>0.328454</td>\n      <td>0.339311</td>\n      <td>-0.623190</td>\n      <td>-1.059116</td>\n      <td>1.0</td>\n    </tr>\n    <tr>\n      <th>2</th>\n      <td>-1.415701</td>\n      <td>2.293545</td>\n      <td>-1.277441</td>\n      <td>-0.852875</td>\n      <td>-0.900033</td>\n      <td>-0.070599</td>\n      <td>0.205077</td>\n      <td>1.267610</td>\n      <td>-0.129406</td>\n      <td>2.845400</td>\n      <td>2.009023</td>\n      <td>2.478314</td>\n      <td>0.140969</td>\n      <td>0.342943</td>\n      <td>-0.661480</td>\n      <td>-0.998378</td>\n      <td>1.0</td>\n    </tr>\n    <tr>\n      <th>3</th>\n      <td>-1.417434</td>\n      <td>2.302970</td>\n      <td>-1.279090</td>\n      <td>-0.774502</td>\n      <td>-0.888245</td>\n      <td>0.122402</td>\n      <td>0.102341</td>\n      <td>1.939393</td>\n      <td>-0.032727</td>\n      <td>2.658063</td>\n      <td>1.981885</td>\n      <td>2.455540</td>\n      <td>-0.015838</td>\n      <td>0.342943</td>\n      <td>-0.541901</td>\n      <td>-0.971592</td>\n      <td>0.0</td>\n    </tr>\n    <tr>\n      <th>4</th>\n      <td>-1.420023</td>\n      <td>2.317107</td>\n      <td>-1.281552</td>\n      <td>-0.685683</td>\n      <td>-0.859525</td>\n      <td>0.300690</td>\n      <td>0.818119</td>\n      <td>1.939393</td>\n      <td>0.093412</td>\n      <td>2.005796</td>\n      <td>1.972691</td>\n      <td>2.419643</td>\n      <td>-0.342537</td>\n      <td>0.340627</td>\n      <td>-1.345192</td>\n      <td>-1.570440</td>\n      <td>1.0</td>\n    </tr>\n    <tr>\n      <th>...</th>\n      <td>...</td>\n      <td>...</td>\n      <td>...</td>\n      <td>...</td>\n      <td>...</td>\n      <td>...</td>\n      <td>...</td>\n      <td>...</td>\n      <td>...</td>\n      <td>...</td>\n      <td>...</td>\n      <td>...</td>\n      <td>...</td>\n      <td>...</td>\n      <td>...</td>\n      <td>...</td>\n      <td>...</td>\n    </tr>\n    <tr>\n      <th>1069</th>\n      <td>0.865492</td>\n      <td>-1.035077</td>\n      <td>1.289191</td>\n      <td>-0.005168</td>\n      <td>-0.109375</td>\n      <td>0.271298</td>\n      <td>1.026958</td>\n      <td>-0.075955</td>\n      <td>0.431593</td>\n      <td>-0.109275</td>\n      <td>-0.466151</td>\n      <td>-0.773933</td>\n      <td>-0.969268</td>\n      <td>-0.918862</td>\n      <td>-0.714858</td>\n      <td>-0.785255</td>\n      <td>1.0</td>\n    </tr>\n    <tr>\n      <th>1070</th>\n      <td>0.848154</td>\n      <td>-1.023156</td>\n      <td>1.270623</td>\n      <td>0.035801</td>\n      <td>-0.079734</td>\n      <td>0.310384</td>\n      <td>1.090179</td>\n      <td>0.595827</td>\n      <td>0.504560</td>\n      <td>-0.328337</td>\n      <td>-0.474823</td>\n      <td>-0.773665</td>\n      <td>-0.990972</td>\n      <td>-0.924201</td>\n      <td>-0.401836</td>\n      <td>-0.627900</td>\n      <td>1.0</td>\n    </tr>\n    <tr>\n      <th>1071</th>\n      <td>0.853913</td>\n      <td>-1.027130</td>\n      <td>1.276791</td>\n      <td>0.064486</td>\n      <td>-0.049791</td>\n      <td>0.313559</td>\n      <td>1.090179</td>\n      <td>-0.075955</td>\n      <td>0.411834</td>\n      <td>-0.432338</td>\n      <td>-0.500946</td>\n      <td>-0.774325</td>\n      <td>-1.052036</td>\n      <td>-0.927824</td>\n      <td>-0.324829</td>\n      <td>-0.482743</td>\n      <td>1.0</td>\n    </tr>\n    <tr>\n      <th>1072</th>\n      <td>0.871313</td>\n      <td>-1.039051</td>\n      <td>1.295425</td>\n      <td>0.072421</td>\n      <td>-0.024114</td>\n      <td>0.268650</td>\n      <td>0.497477</td>\n      <td>-0.075955</td>\n      <td>0.240095</td>\n      <td>-0.522253</td>\n      <td>-0.522041</td>\n      <td>-0.776736</td>\n      <td>-1.180918</td>\n      <td>-0.933460</td>\n      <td>-0.261731</td>\n      <td>-0.653516</td>\n      <td>0.0</td>\n    </tr>\n    <tr>\n      <th>1073</th>\n      <td>0.859693</td>\n      <td>-1.031103</td>\n      <td>1.282980</td>\n      <td>0.091003</td>\n      <td>0.000464</td>\n      <td>0.257071</td>\n      <td>0.652708</td>\n      <td>-0.075955</td>\n      <td>0.288732</td>\n      <td>-0.565593</td>\n      <td>-0.533050</td>\n      <td>-0.775647</td>\n      <td>-1.222433</td>\n      <td>-0.945410</td>\n      <td>-0.359947</td>\n      <td>-0.760148</td>\n      <td>1.0</td>\n    </tr>\n  </tbody>\n</table>\n<p>1074 rows × 17 columns</p>\n</div>"
     },
     "execution_count": 173,
     "metadata": {},
     "output_type": "execute_result"
    }
   ],
   "source": [
    "data_train = pd.concat([X_train, y_train], axis=1)\n",
    "data_cv = pd.concat([X_cv, y_cv], axis=1)\n",
    "data_train"
   ]
  },
  {
   "cell_type": "code",
   "execution_count": 174,
   "metadata": {
    "pycharm": {
     "name": "#%%\n"
    }
   },
   "outputs": [],
   "source": [
    "from torch.utils.data import TensorDataset\n",
    "import torch\n",
    "\n",
    "X_train_ndarray = X_train.values\n",
    "y_train_ndarray = y_train.values\n",
    "\n",
    "train_dataset = TensorDataset(torch.from_numpy(X_train_ndarray).type(torch.FloatTensor), torch.from_numpy(y_train_ndarray).type(torch.LongTensor))\n",
    "\n",
    "# for X_train_temp, y_train_temp in train_dataset:\n",
    "#     print(X_train_temp, y_train_temp)\n",
    "#     print(X_train_temp.dtype, y_train_temp.dtype)"
   ]
  },
  {
   "cell_type": "code",
   "execution_count": 175,
   "metadata": {
    "pycharm": {
     "name": "#%%\n"
    }
   },
   "outputs": [],
   "source": [
    "X_cv_ndarray = X_cv.values\n",
    "y_cv_ndarray = y_cv.values\n",
    "\n",
    "cv_dataset = TensorDataset(torch.from_numpy(X_cv_ndarray).type(torch.FloatTensor), torch.from_numpy(y_cv.values).type(torch.LongTensor))\n",
    "\n",
    "# for X_cv_temp, y_cv_temp in cv_dataset:\n",
    "#     print(X_cv_temp, y_cv_temp)\n",
    "#     print(X_cv_temp.dtype, y_cv_temp.dtype)"
   ]
  },
  {
   "cell_type": "code",
   "execution_count": 176,
   "metadata": {
    "pycharm": {
     "name": "#%%\n"
    }
   },
   "outputs": [],
   "source": [
    "from torch.utils.data import DataLoader\n",
    "\n",
    "\n",
    "train_dataloader = DataLoader(\n",
    "    dataset=train_dataset,\n",
    "    batch_size=para.batch_size,\n",
    "    shuffle=True\n",
    ")\n",
    "\n",
    "cv_dataloader = DataLoader(\n",
    "    dataset=cv_dataset,\n",
    "    batch_size=para.batch_size,\n",
    "    shuffle=True\n",
    ")"
   ]
  },
  {
   "cell_type": "markdown",
   "metadata": {
    "pycharm": {
     "name": "#%% md\n"
    }
   },
   "source": [
    "### 构建测试集"
   ]
  },
  {
   "cell_type": "code",
   "execution_count": 177,
   "metadata": {
    "pycharm": {
     "name": "#%%\n"
    }
   },
   "outputs": [],
   "source": [
    "# data_test = None\n",
    "# for i_month in para.month_test:\n",
    "#\n",
    "#     file_name = para.data_path + '/' + str(i_month) + '.csv'\n",
    "#     data_curr_month = pd.read_csv(file_name)\n",
    "#\n",
    "#     data_curr_month = data_curr_month.dropna(axis=0)\n",
    "#\n",
    "#     data_curr_month = label_data(data=data_curr_month, percent_select=para.percent_select)\n",
    "#\n",
    "#     if i_month == para.month_test[0]:\n",
    "#         data_test = data_curr_month\n",
    "#     else:\n",
    "#         data_test = pd.concat([data_test, data_curr_month])\n",
    "#         # data_test = data_test.append(data_curr_month)\n",
    "#\n",
    "# X_test = data_test.loc[:, para.feature_column_start_name: para.feature_column_end_name]\n",
    "# y_test = data_test.loc[:, 'return_bin']"
   ]
  },
  {
   "cell_type": "code",
   "execution_count": 178,
   "metadata": {
    "pycharm": {
     "name": "#%%\n"
    }
   },
   "outputs": [],
   "source": [
    "# from torch.utils.data import TensorDataset\n",
    "# import torch\n",
    "#\n",
    "#\n",
    "# X_test_ndarray = X_test.values\n",
    "# y_test_ndarray = y_test.values\n",
    "#\n",
    "# test_dataset = TensorDataset(torch.from_numpy(X_test_ndarray).type(torch.FloatTensor), torch.from_numpy(y_test_ndarray).type(torch.LongTensor))"
   ]
  },
  {
   "cell_type": "code",
   "execution_count": 179,
   "metadata": {
    "pycharm": {
     "name": "#%%\n"
    }
   },
   "outputs": [],
   "source": [
    "# from torch.utils.data import DataLoader\n",
    "#\n",
    "#\n",
    "# test_dataloader = DataLoader(\n",
    "#     dataset=test_dataset,\n",
    "#     batch_size=para.batch_size,\n",
    "#     shuffle=True,\n",
    "# )"
   ]
  },
  {
   "cell_type": "markdown",
   "metadata": {
    "pycharm": {
     "name": "#%% md\n"
    }
   },
   "source": [
    "### 构建神经网络"
   ]
  },
  {
   "cell_type": "code",
   "execution_count": 180,
   "metadata": {
    "pycharm": {
     "name": "#%%\n"
    }
   },
   "outputs": [
    {
     "name": "stdout",
     "output_type": "stream",
     "text": [
      "MLP5(\n",
      "  (linear_stack): Sequential(\n",
      "    (0): Linear(in_features=16, out_features=16, bias=True)\n",
      "    (1): Dropout(p=0.5, inplace=False)\n",
      "    (2): ReLU()\n",
      "    (3): Linear(in_features=16, out_features=8, bias=True)\n",
      "    (4): Dropout(p=0.5, inplace=False)\n",
      "    (5): ReLU()\n",
      "    (6): Linear(in_features=8, out_features=8, bias=True)\n",
      "    (7): Dropout(p=0.5, inplace=False)\n",
      "    (8): ReLU()\n",
      "    (9): Linear(in_features=8, out_features=8, bias=True)\n",
      "    (10): Dropout(p=0.5, inplace=False)\n",
      "    (11): ReLU()\n",
      "    (12): Linear(in_features=8, out_features=2, bias=True)\n",
      "  )\n",
      ")\n"
     ]
    }
   ],
   "source": [
    "from my_utils.model_class import MLP5\n",
    "\n",
    "model = MLP5(in_nums=len(X_train.columns), out_nums=para.classification, drop_p=para.drop)\n",
    "# to device\n",
    "model = model.to(device=para.device)\n",
    "print(model)"
   ]
  },
  {
   "cell_type": "markdown",
   "metadata": {
    "pycharm": {
     "name": "#%% md\n"
    }
   },
   "source": [
    "### 训练与测试"
   ]
  },
  {
   "cell_type": "code",
   "execution_count": 181,
   "metadata": {
    "pycharm": {
     "name": "#%%\n"
    }
   },
   "outputs": [],
   "source": [
    "import torchmetrics\n",
    "\n",
    "\n",
    "def train_loop(dataloader, model, loss_fn, optimizer):\n",
    "    size = len(dataloader.dataset)\n",
    "    num_batches = len(dataloader)\n",
    "    train_loss, correct = 0, 0\n",
    "\n",
    "    # initialize metric\n",
    "    train_precision = torchmetrics.Precision(average='none', num_classes=para.classification).to(device=para.device)\n",
    "\n",
    "    for batch, (X, y) in enumerate(dataloader):\n",
    "\n",
    "        # to device\n",
    "        X = X.to(device=para.device)\n",
    "        y = y.to(device=para.device)\n",
    "\n",
    "        # compute prediction and loss\n",
    "        pred = model(X)\n",
    "        loss = loss_fn(pred, y)\n",
    "\n",
    "        train_loss += loss_fn(pred, y).item()\n",
    "        correct += (pred.argmax(1) == y).type(torch.float).sum().item()\n",
    "\n",
    "        # metric on current batch\n",
    "        train_precision(pred.argmax(1), y)\n",
    "\n",
    "        # Backpropagation\n",
    "        optimizer.zero_grad()\n",
    "        loss.backward()\n",
    "        optimizer.step()\n",
    "\n",
    "        # if batch % 10 == 0:\n",
    "        #     loss, current = loss.item(), batch * len(X)\n",
    "        #     print(f\"loss: {loss:>7f}  [{current:>5d}/{size:>5d}]\")\n",
    "\n",
    "    train_loss /= num_batches\n",
    "    correct /= size\n",
    "    print(f\"Train Error: \\n    Accuracy: {(100*correct):>0.1f}%, Avg loss: {train_loss:>8f} \\n\")\n",
    "\n",
    "    # metric on all batches using custom accumulation\n",
    "    total_precision = train_precision.compute()\n",
    "    print(\"Precision of every train dataset class: \", total_precision)\n",
    "    print()\n",
    "\n",
    "    return correct, train_loss, total_precision\n",
    "\n",
    "\n",
    "def test_loop(dataloader, model, loss_fn):\n",
    "    size = len(dataloader.dataset)\n",
    "    num_batches = len(dataloader)\n",
    "    test_loss, correct = 0, 0\n",
    "\n",
    "    # initialize metric\n",
    "    test_precision = torchmetrics.Precision(average='none', num_classes=para.classification).to(device=para.device)\n",
    "\n",
    "    with torch.no_grad():\n",
    "        for X, y in dataloader:\n",
    "\n",
    "            # to device\n",
    "            X = X.to(device=para.device)\n",
    "            y = y.to(device=para.device)\n",
    "\n",
    "            # compute prediction and loss\n",
    "            pred = model(X)\n",
    "            test_loss += loss_fn(pred, y).item()\n",
    "            correct += (pred.argmax(1) == y).type(torch.float).sum().item()\n",
    "\n",
    "            # metric on current batch\n",
    "            test_precision(pred.argmax(1), y)\n",
    "\n",
    "\n",
    "    test_loss /= num_batches\n",
    "    correct /= size\n",
    "    print(f\"Test Error: \\n    Accuracy: {(100*correct):>0.1f}%, Avg loss: {test_loss:>8f} \\n\")\n",
    "\n",
    "    # metric on all batches using custom accumulation\n",
    "    total_precision = test_precision.compute()\n",
    "    print(\"Precision of every test dataset class: \", total_precision)\n",
    "    print()\n",
    "\n",
    "    return correct, test_loss, total_precision"
   ]
  },
  {
   "cell_type": "code",
   "execution_count": 182,
   "metadata": {
    "pycharm": {
     "name": "#%%\n"
    }
   },
   "outputs": [],
   "source": [
    "def select_df_to_dataloader(df: pd.DataFrame, select: int) -> DataLoader:\n",
    "\n",
    "    df = df[df['return_bin'] == select]\n",
    "\n",
    "    df_dataset = TensorDataset(\n",
    "        torch.from_numpy(df.loc[:, para.feature_column_start_name: para.feature_column_end_name].values).type(torch.FloatTensor),\n",
    "        torch.from_numpy(df.loc[:, 'return_bin'].values).type(torch.LongTensor))\n",
    "\n",
    "    df_dataloader = DataLoader(\n",
    "        dataset=df_dataset,\n",
    "        batch_size=para.batch_size,\n",
    "        shuffle=True,\n",
    "    )\n",
    "\n",
    "    return df_dataloader"
   ]
  },
  {
   "cell_type": "code",
   "execution_count": 183,
   "metadata": {
    "pycharm": {
     "name": "#%%\n"
    }
   },
   "outputs": [],
   "source": [
    "# temp2_dataloader = select_df_to_dataloader(df=data_cv, select=2)\n",
    "temp1_dataloader = select_df_to_dataloader(df=data_cv, select=1)\n",
    "temp0_dataloader = select_df_to_dataloader(df=data_cv, select=0)"
   ]
  },
  {
   "cell_type": "code",
   "execution_count": 184,
   "metadata": {
    "pycharm": {
     "name": "#%%\n"
    }
   },
   "outputs": [
    {
     "name": "stdout",
     "output_type": "stream",
     "text": [
      "Epoch 1\n",
      "-------------------------------\n",
      "Train Error: \n",
      "    Accuracy: 51.0%, Avg loss: 0.698562 \n",
      "\n",
      "Precision of every train dataset class:  tensor([0.4847, 0.5199], device='cuda:0')\n",
      "\n",
      "Test Error: \n",
      "    Accuracy: 51.7%, Avg loss: 0.693506 \n",
      "\n",
      "Precision of every test dataset class:  tensor([0.0000, 0.5167], device='cuda:0')\n",
      "\n",
      "Time cost = 0.754031s\n",
      "\n",
      "Epoch 2\n",
      "-------------------------------\n",
      "Train Error: \n",
      "    Accuracy: 51.8%, Avg loss: 0.693335 \n",
      "\n",
      "Precision of every train dataset class:  tensor([0.4988, 0.5297], device='cuda:0')\n",
      "\n",
      "Test Error: \n",
      "    Accuracy: 50.8%, Avg loss: 0.693297 \n",
      "\n",
      "Precision of every test dataset class:  tensor([0.3333, 0.5128], device='cuda:0')\n",
      "\n",
      "Time cost = 1.847203s\n",
      "\n",
      "Epoch 3\n",
      "-------------------------------\n",
      "Train Error: \n",
      "    Accuracy: 49.5%, Avg loss: 0.695291 \n",
      "\n",
      "Precision of every train dataset class:  tensor([0.4677, 0.5109], device='cuda:0')\n",
      "\n",
      "Test Error: \n",
      "    Accuracy: 51.7%, Avg loss: 0.693119 \n",
      "\n",
      "Precision of every test dataset class:  tensor([0.0000, 0.5167], device='cuda:0')\n",
      "\n",
      "Time cost = 2.621610s\n",
      "\n",
      "Epoch 4\n",
      "-------------------------------\n",
      "Train Error: \n",
      "    Accuracy: 51.8%, Avg loss: 0.695270 \n",
      "\n",
      "Precision of every train dataset class:  tensor([0.4987, 0.5282], device='cuda:0')\n",
      "\n",
      "Test Error: \n",
      "    Accuracy: 51.7%, Avg loss: 0.692376 \n",
      "\n",
      "Precision of every test dataset class:  tensor([0.0000, 0.5167], device='cuda:0')\n",
      "\n",
      "Time cost = 3.211507s\n",
      "\n",
      "Epoch 5\n",
      "-------------------------------\n",
      "Train Error: \n",
      "    Accuracy: 50.6%, Avg loss: 0.693601 \n",
      "\n",
      "Precision of every train dataset class:  tensor([0.4844, 0.5208], device='cuda:0')\n",
      "\n",
      "Test Error: \n",
      "    Accuracy: 51.7%, Avg loss: 0.692947 \n",
      "\n",
      "Precision of every test dataset class:  tensor([0.0000, 0.5167], device='cuda:0')\n",
      "\n",
      "Time cost = 3.983996s\n",
      "\n",
      "Epoch 6\n",
      "-------------------------------\n",
      "Train Error: \n",
      "    Accuracy: 52.2%, Avg loss: 0.691293 \n",
      "\n",
      "Precision of every train dataset class:  tensor([0.5052, 0.5318], device='cuda:0')\n",
      "\n",
      "Test Error: \n",
      "    Accuracy: 51.7%, Avg loss: 0.692892 \n",
      "\n",
      "Precision of every test dataset class:  tensor([0.0000, 0.5167], device='cuda:0')\n",
      "\n",
      "Time cost = 4.935784s\n",
      "\n",
      "Epoch 7\n",
      "-------------------------------\n",
      "Train Error: \n",
      "    Accuracy: 50.3%, Avg loss: 0.694240 \n",
      "\n",
      "Precision of every train dataset class:  tensor([0.4806, 0.5181], device='cuda:0')\n",
      "\n",
      "Test Error: \n",
      "    Accuracy: 51.7%, Avg loss: 0.692193 \n",
      "\n",
      "Precision of every test dataset class:  tensor([0.0000, 0.5167], device='cuda:0')\n",
      "\n",
      "Time cost = 5.714823s\n",
      "\n",
      "Epoch 8\n",
      "-------------------------------\n",
      "Train Error: \n",
      "    Accuracy: 53.5%, Avg loss: 0.690276 \n",
      "\n",
      "Precision of every train dataset class:  tensor([0.5265, 0.5395], device='cuda:0')\n",
      "\n",
      "Test Error: \n",
      "    Accuracy: 51.7%, Avg loss: 0.692292 \n",
      "\n",
      "Precision of every test dataset class:  tensor([0.0000, 0.5167], device='cuda:0')\n",
      "\n",
      "Time cost = 6.324207s\n",
      "\n",
      "Epoch 9\n",
      "-------------------------------\n",
      "Train Error: \n",
      "    Accuracy: 51.4%, Avg loss: 0.690024 \n",
      "\n",
      "Precision of every train dataset class:  tensor([0.4941, 0.5268], device='cuda:0')\n",
      "\n",
      "Test Error: \n",
      "    Accuracy: 51.7%, Avg loss: 0.692503 \n",
      "\n",
      "Precision of every test dataset class:  tensor([0.0000, 0.5167], device='cuda:0')\n",
      "\n",
      "Time cost = 6.868207s\n",
      "\n",
      "Epoch 10\n",
      "-------------------------------\n",
      "Train Error: \n",
      "    Accuracy: 50.5%, Avg loss: 0.693789 \n",
      "\n",
      "Precision of every train dataset class:  tensor([0.4830, 0.5197], device='cuda:0')\n",
      "\n",
      "Test Error: \n",
      "    Accuracy: 51.7%, Avg loss: 0.691504 \n",
      "\n",
      "Precision of every test dataset class:  tensor([0.0000, 0.5167], device='cuda:0')\n",
      "\n",
      "Time cost = 7.488950s\n",
      "\n",
      "Epoch 11\n",
      "-------------------------------\n",
      "Train Error: \n",
      "    Accuracy: 53.4%, Avg loss: 0.687626 \n",
      "\n",
      "Precision of every train dataset class:  tensor([0.5199, 0.5440], device='cuda:0')\n",
      "\n",
      "Test Error: \n",
      "    Accuracy: 66.7%, Avg loss: 0.689457 \n",
      "\n",
      "Precision of every test dataset class:  tensor([0.8750, 0.6146], device='cuda:0')\n",
      "\n",
      "Time cost = 8.150919s\n",
      "\n",
      "Epoch 12\n",
      "-------------------------------\n",
      "Train Error: \n",
      "    Accuracy: 54.5%, Avg loss: 0.682991 \n",
      "\n",
      "Precision of every train dataset class:  tensor([0.5417, 0.5461], device='cuda:0')\n",
      "\n",
      "Test Error: \n",
      "    Accuracy: 64.2%, Avg loss: 0.686855 \n",
      "\n",
      "Precision of every test dataset class:  tensor([1.0000, 0.5905], device='cuda:0')\n",
      "\n",
      "Time cost = 8.735461s\n",
      "\n",
      "Epoch 13\n",
      "-------------------------------\n",
      "Train Error: \n",
      "    Accuracy: 55.4%, Avg loss: 0.678386 \n",
      "\n",
      "Precision of every train dataset class:  tensor([0.5503, 0.5560], device='cuda:0')\n",
      "\n",
      "Test Error: \n",
      "    Accuracy: 74.2%, Avg loss: 0.685619 \n",
      "\n",
      "Precision of every test dataset class:  tensor([0.8649, 0.6867], device='cuda:0')\n",
      "\n",
      "Time cost = 9.285312s\n",
      "\n",
      "Epoch 14\n",
      "-------------------------------\n",
      "Train Error: \n",
      "    Accuracy: 56.4%, Avg loss: 0.678781 \n",
      "\n",
      "Precision of every train dataset class:  tensor([0.5653, 0.5637], device='cuda:0')\n",
      "\n",
      "Test Error: \n",
      "    Accuracy: 70.8%, Avg loss: 0.675270 \n",
      "\n",
      "Precision of every test dataset class:  tensor([0.8966, 0.6484], device='cuda:0')\n",
      "\n",
      "Time cost = 10.169411s\n",
      "\n",
      "Epoch 15\n",
      "-------------------------------\n",
      "Train Error: \n",
      "    Accuracy: 55.5%, Avg loss: 0.684328 \n",
      "\n",
      "Precision of every train dataset class:  tensor([0.5549, 0.5549], device='cuda:0')\n",
      "\n",
      "Test Error: \n",
      "    Accuracy: 65.0%, Avg loss: 0.679447 \n",
      "\n",
      "Precision of every test dataset class:  tensor([0.9000, 0.6000], device='cuda:0')\n",
      "\n",
      "Time cost = 11.032492s\n",
      "\n",
      "Epoch 16\n",
      "-------------------------------\n",
      "Train Error: \n",
      "    Accuracy: 55.3%, Avg loss: 0.686293 \n",
      "\n",
      "Precision of every train dataset class:  tensor([0.5580, 0.5510], device='cuda:0')\n",
      "\n",
      "Test Error: \n",
      "    Accuracy: 64.2%, Avg loss: 0.681193 \n",
      "\n",
      "Precision of every test dataset class:  tensor([1.0000, 0.5905], device='cuda:0')\n",
      "\n",
      "Time cost = 12.137547s\n",
      "\n",
      "Epoch 17\n",
      "-------------------------------\n",
      "Train Error: \n",
      "    Accuracy: 55.8%, Avg loss: 0.680336 \n",
      "\n",
      "Precision of every train dataset class:  tensor([0.5644, 0.5548], device='cuda:0')\n",
      "\n",
      "Test Error: \n",
      "    Accuracy: 70.8%, Avg loss: 0.680890 \n",
      "\n",
      "Precision of every test dataset class:  tensor([0.8286, 0.6588], device='cuda:0')\n",
      "\n",
      "Time cost = 12.792009s\n",
      "\n",
      "Epoch 18\n",
      "-------------------------------\n",
      "Train Error: \n",
      "    Accuracy: 57.7%, Avg loss: 0.675462 \n",
      "\n",
      "Precision of every train dataset class:  tensor([0.6019, 0.5673], device='cuda:0')\n",
      "\n",
      "Test Error: \n",
      "    Accuracy: 63.3%, Avg loss: 0.680325 \n",
      "\n",
      "Precision of every test dataset class:  tensor([0.6094, 0.6607], device='cuda:0')\n",
      "\n",
      "Time cost = 13.359343s\n",
      "\n",
      "Epoch 19\n",
      "-------------------------------\n",
      "Train Error: \n",
      "    Accuracy: 56.9%, Avg loss: 0.675194 \n",
      "\n",
      "Precision of every train dataset class:  tensor([0.5808, 0.5635], device='cuda:0')\n",
      "\n",
      "Test Error: \n",
      "    Accuracy: 62.5%, Avg loss: 0.670393 \n",
      "\n",
      "Precision of every test dataset class:  tensor([0.6066, 0.6441], device='cuda:0')\n",
      "\n",
      "Time cost = 13.933345s\n",
      "\n",
      "Epoch 20\n",
      "-------------------------------\n",
      "Train Error: \n",
      "    Accuracy: 59.2%, Avg loss: 0.669817 \n",
      "\n",
      "Precision of every train dataset class:  tensor([0.6158, 0.5812], device='cuda:0')\n",
      "\n",
      "Test Error: \n",
      "    Accuracy: 58.3%, Avg loss: 0.673178 \n",
      "\n",
      "Precision of every test dataset class:  tensor([0.5500, 0.6500], device='cuda:0')\n",
      "\n",
      "Time cost = 14.501561s\n",
      "\n",
      "Done!\n"
     ]
    }
   ],
   "source": [
    "from torch import nn\n",
    "import time\n",
    "from torch.utils.tensorboard import SummaryWriter\n",
    "\n",
    "# 计时\n",
    "time_start = time.time()\n",
    "\n",
    "# writer = SummaryWriter(para.tensor_board_log_dir)\n",
    "writer = SummaryWriter()\n",
    "\n",
    "# 损失函数\n",
    "loss_fn = nn.CrossEntropyLoss()\n",
    "# to device\n",
    "loss_fn = loss_fn.to(device=para.device)\n",
    "\n",
    "# 优化器\n",
    "optimizer = torch.optim.Adam(model.parameters(), lr=para.lr)\n",
    "\n",
    "epochs = para.epochs\n",
    "for t in range(epochs):\n",
    "    print(f\"Epoch {t+1}\\n-------------------------------\")\n",
    "\n",
    "    model.train()\n",
    "    accuracy_train, loss_train, precision_train = train_loop(train_dataloader, model, loss_fn, optimizer)\n",
    "    model.eval()\n",
    "    accuracy_cv, loss_cv, precision_cv = test_loop(cv_dataloader, model, loss_fn)\n",
    "\n",
    "    # accuracy2 = test_loop(temp2_dataloader, model, loss_fn)\n",
    "    # print('#')\n",
    "    # accuracy1 = test_loop(temp1_dataloader, model, loss_fn)\n",
    "    # accuracy0 = test_loop(temp0_dataloader, model, loss_fn)\n",
    "\n",
    "    # 写入 tensorboard\n",
    "    if para.classification == 2:\n",
    "\n",
    "        writer.add_scalars(main_tag=para.info_str+'_evaluation/cv',\n",
    "                           tag_scalar_dict={\n",
    "                               'accuracy': accuracy_cv,\n",
    "                               'precision0': precision_cv[0],\n",
    "                               'precision1': precision_cv[1]},\n",
    "                           global_step=t)\n",
    "\n",
    "        writer.add_scalars(main_tag=para.info_str+'_evaluation/train',\n",
    "                           tag_scalar_dict={\n",
    "                               'accuracy': accuracy_train,\n",
    "                               'precision0': precision_train[0],\n",
    "                               'precision1': precision_train[1]},\n",
    "                           global_step=t)\n",
    "\n",
    "    elif para.classification == 3:\n",
    "\n",
    "        writer.add_scalars(main_tag=para.info_str+'_evaluation/cv',\n",
    "                           tag_scalar_dict={\n",
    "                               'accuracy': accuracy_cv,\n",
    "                               'precision0': precision_cv[0],\n",
    "                               'precision1': precision_cv[1],\n",
    "                               'precision2': precision_cv[2]},\n",
    "                           global_step=t)\n",
    "\n",
    "        writer.add_scalars(main_tag=para.info_str+'_evaluation/train',\n",
    "                           tag_scalar_dict={\n",
    "                               'accuracy': accuracy_train,\n",
    "                               'precision0': precision_train[0],\n",
    "                               'precision1': precision_train[1],\n",
    "                               'precision2': precision_train[2]},\n",
    "                           global_step=t)\n",
    "\n",
    "    elif para.classification == 5:\n",
    "\n",
    "        writer.add_scalars(main_tag=para.info_str+'_evaluation/cv',\n",
    "                           tag_scalar_dict={\n",
    "                               'accuracy': accuracy_cv,\n",
    "                               'precision0': precision_cv[0],\n",
    "                               'precision1': precision_cv[1],\n",
    "                               'precision2': precision_cv[2],\n",
    "                               'precision3': precision_cv[3],\n",
    "                               'precision4': precision_cv[4]},\n",
    "                           global_step=t)\n",
    "\n",
    "        writer.add_scalars(main_tag=para.info_str+'_evaluation/train',\n",
    "                           tag_scalar_dict={\n",
    "                               'accuracy': accuracy_train,\n",
    "                               'precision0': precision_train[0],\n",
    "                               'precision1': precision_train[1],\n",
    "                               'precision2': precision_train[2],\n",
    "                               'precision3': precision_train[3],\n",
    "                               'precision4': precision_train[4]},\n",
    "                           global_step=t)\n",
    "\n",
    "    writer.add_scalars(main_tag=para.info_str+'_loss/cv',\n",
    "                       tag_scalar_dict={\n",
    "                           'loss': loss_cv},\n",
    "                       global_step=t)\n",
    "\n",
    "    writer.add_scalars(main_tag=para.info_str+'_loss/train',\n",
    "                       tag_scalar_dict={\n",
    "                           'loss': loss_train},\n",
    "                       global_step=t)\n",
    "    writer.flush()\n",
    "\n",
    "    time_end = time.time()\n",
    "    print('Time cost = %fs' % (time_end - time_start))\n",
    "    print()\n",
    "\n",
    "writer.close()\n",
    "\n",
    "print(\"Done!\")"
   ]
  },
  {
   "cell_type": "markdown",
   "source": [
    "## 保存模型"
   ],
   "metadata": {
    "collapsed": false,
    "pycharm": {
     "name": "#%% md\n"
    }
   }
  },
  {
   "cell_type": "code",
   "execution_count": 185,
   "outputs": [
    {
     "name": "stdout",
     "output_type": "stream",
     "text": [
      "Finish save model!\n"
     ]
    }
   ],
   "source": [
    "torch.save(model.state_dict(), para.save_model_path)\n",
    "\n",
    "print('Finish save model!')"
   ],
   "metadata": {
    "collapsed": false,
    "pycharm": {
     "name": "#%%\n"
    }
   }
  },
  {
   "cell_type": "markdown",
   "metadata": {
    "pycharm": {
     "name": "#%% md\n"
    }
   },
   "source": [
    "## captum"
   ]
  },
  {
   "cell_type": "code",
   "execution_count": 186,
   "metadata": {
    "pycharm": {
     "name": "#%%\n"
    }
   },
   "outputs": [],
   "source": [
    "# # captum\n",
    "# from captum.attr import IntegratedGradients\n",
    "#\n",
    "# ig = IntegratedGradients(model)"
   ]
  },
  {
   "cell_type": "code",
   "execution_count": 187,
   "metadata": {
    "pycharm": {
     "name": "#%%\n"
    }
   },
   "outputs": [],
   "source": [
    "# temp = cv_dataloader.dataset.tensors[0]\n",
    "# temp.requires_grad_()\n",
    "# attr, delta = ig.attribute(temp,target=1, return_convergence_delta=True)\n",
    "# attr = attr.detach().numpy()"
   ]
  },
  {
   "cell_type": "code",
   "execution_count": 188,
   "metadata": {
    "pycharm": {
     "name": "#%%\n"
    }
   },
   "outputs": [],
   "source": [
    "# # Helper method to print importances and visualize distribution\n",
    "# def visualize_importances(feature_names, importances, title=\"Average Feature Importances\", plot=True, axis_title=\"Features\"):\n",
    "#     print(title)\n",
    "#     for i in range(len(feature_names)):\n",
    "#         print(feature_names[i], \": \", '%.3f'%(importances[i]))\n",
    "#     y_pos = (np.arange(len(feature_names)))\n",
    "#     if plot:\n",
    "#         plt.figure(figsize=(20,6))\n",
    "#         plt.barh(y_pos, importances, align='center')\n",
    "#         plt.yticks(y_pos, feature_names)\n",
    "#         plt.ylabel(axis_title)\n",
    "#         plt.grid(axis='y')\n",
    "#         plt.title(title)\n",
    "# visualize_importances(feature_names=X_cv.columns.values.tolist(), importances=np.mean(attr, axis=0))"
   ]
  },
  {
   "cell_type": "code",
   "execution_count": 189,
   "metadata": {
    "pycharm": {
     "name": "#%%\n"
    }
   },
   "outputs": [],
   "source": [
    "# X_cv.columns.values.tolist()"
   ]
  },
  {
   "cell_type": "code",
   "execution_count": 190,
   "metadata": {
    "pycharm": {
     "name": "#%%\n"
    }
   },
   "outputs": [],
   "source": [
    "# loss = nn.CrossEntropyLoss()\n",
    "# input = torch.Tensor(\n",
    "#     [[-0.0441,  0.0773],\n",
    "#     [-0.0781, -0.1772],\n",
    "#     [-0.1319, -0.0432],\n",
    "#     [-0.0714, -0.1261],\n",
    "#     [-0.0806, -0.1370],\n",
    "#     [-0.1730, -0.1472],\n",
    "#     [-0.0350, -0.0507],\n",
    "#     [-0.1149, -0.2248]])\n",
    "# # input = input.reshape(-1,4)\n",
    "# target = torch.Tensor([0, 1, 1, 0, 0, 0, 0, 0]).type(torch.LongTensor)\n",
    "# print(input.dtype)\n",
    "# print(target.dtype)\n",
    "# output = loss(input, target)\n",
    "# print(input, target, output)"
   ]
  },
  {
   "cell_type": "code",
   "execution_count": 191,
   "metadata": {
    "pycharm": {
     "name": "#%%\n"
    }
   },
   "outputs": [],
   "source": [
    "# # Example of target with class indices\n",
    "# loss = nn.CrossEntropyLoss()\n",
    "# input = torch.randn(3, 5, requires_grad=True)\n",
    "# target = torch.Tensor([1,4,1]).type(torch.LongTensor)\n",
    "# output = loss(input, target)\n",
    "# print(input,target,output)"
   ]
  },
  {
   "cell_type": "code",
   "execution_count": 192,
   "metadata": {
    "pycharm": {
     "name": "#%%\n"
    }
   },
   "outputs": [],
   "source": [
    "# loss = nn.BCEWithLogitsLoss()\n",
    "# input = torch.Tensor([0.5, 0.4, 0.3])\n",
    "# target = torch.Tensor([0])\n",
    "# output = loss(input, target)\n",
    "# print(input, target, output)"
   ]
  }
 ],
 "metadata": {
  "kernelspec": {
   "display_name": "Python 3 (ipykernel)",
   "language": "python",
   "name": "python3"
  },
  "language_info": {
   "codemirror_mode": {
    "name": "ipython",
    "version": 3
   },
   "file_extension": ".py",
   "mimetype": "text/x-python",
   "name": "python",
   "nbconvert_exporter": "python",
   "pygments_lexer": "ipython3",
   "version": "3.8.10"
  }
 },
 "nbformat": 4,
 "nbformat_minor": 1
}