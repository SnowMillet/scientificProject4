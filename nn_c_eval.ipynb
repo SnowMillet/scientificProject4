{
 "cells": [
  {
   "cell_type": "code",
   "execution_count": 8,
   "outputs": [
    {
     "name": "stdout",
     "output_type": "stream",
     "text": [
      "1\n"
     ]
    }
   ],
   "source": [
    "import torch\n",
    "import os\n",
    "\n",
    "\n",
    "class Para:\n",
    "    feature_column_start_name = 'ep_ratio_ttm' # 'VOL5'\n",
    "    feature_column_end_name = 'BR' # 'AROON_DOWN'\n",
    "\n",
    "    feature_num = 16 # 8\n",
    "\n",
    "    device = torch.device(\"cuda:0\" if torch.cuda.is_available() else \"cpu\")\n",
    "\n",
    "    data_path = 'data/zj_space_1d_rate_20d_22-22_pre'\n",
    "    model_path = 'models/model_zj_c2_s0.1_b16_lr0.001_d0.5_e5.pth'\n",
    "\n",
    "    classification_n = 2\n",
    "\n",
    "    month_num = len(os.listdir(data_path))\n",
    "\n",
    "para = Para()\n",
    "print(para.month_num)"
   ],
   "metadata": {
    "collapsed": false,
    "pycharm": {
     "name": "#%%\n"
    }
   }
  },
  {
   "cell_type": "code",
   "execution_count": 9,
   "outputs": [],
   "source": [
    "import numpy as np\n",
    "import torch\n",
    "from my_utils.model_class import MLP5\n",
    "import pandas as pd\n",
    "\n",
    "def insert_predict(df: pd.DataFrame, model_path, out_nums: int, column_name: str) -> pd.DataFrame:\n",
    "\n",
    "    # 加载模型\n",
    "    model = MLP5(in_nums=para.feature_num, out_nums=out_nums, drop_p=0.5)\n",
    "    model.load_state_dict(torch.load(model_path, map_location=para.device))\n",
    "    model = model.to(para.device)\n",
    "\n",
    "    # 运算\n",
    "    model.eval()\n",
    "    predict_tensor = model(torch.Tensor(df.loc[:, para.feature_column_start_name: para.feature_column_end_name].values).to(device=para.device))\n",
    "\n",
    "    # 插入 predict_tensor 列\n",
    "    df.insert(loc=0, column='predict_tensor_'+column_name, value=np.nan)\n",
    "    # 插入 predict_return_bin 列\n",
    "    df.insert(loc=0, column='predict_return_bin_'+column_name, value=np.nan)\n",
    "\n",
    "    df['predict_tensor'+'_'+column_name] = predict_tensor.to(device='cpu').detach().numpy().tolist()\n",
    "    df['predict_return_bin'+'_'+column_name] = predict_tensor.to(device='cpu').detach().numpy().argmax(1)\n",
    "\n",
    "    return df"
   ],
   "metadata": {
    "collapsed": false,
    "pycharm": {
     "name": "#%%\n"
    }
   }
  },
  {
   "cell_type": "code",
   "execution_count": 10,
   "outputs": [
    {
     "data": {
      "text/plain": "              board_type  sector_code  month        date  yield_rate  \\\norder_book_id                                                          \n600895.XSHG    MainBoard  Industrials      0  2022-01-04    0.120287   \n600895.XSHG    MainBoard  Industrials      1  2022-01-05   -0.074175   \n600895.XSHG    MainBoard  Industrials      2  2022-01-06    0.107779   \n600895.XSHG    MainBoard  Industrials      3  2022-01-07   -0.258476   \n600895.XSHG    MainBoard  Industrials      4  2022-01-10   -0.251266   \n600895.XSHG    MainBoard  Industrials      5  2022-01-11   -0.344670   \n600895.XSHG    MainBoard  Industrials      6  2022-01-12   -0.180630   \n600895.XSHG    MainBoard  Industrials      7  2022-01-13   -0.268461   \n600895.XSHG    MainBoard  Industrials      8  2022-01-14    0.473781   \n600895.XSHG    MainBoard  Industrials      9  2022-01-17    0.379891   \n600895.XSHG    MainBoard  Industrials     10  2022-01-18   -0.037034   \n600895.XSHG    MainBoard  Industrials     11  2022-01-19    0.315583   \n600895.XSHG    MainBoard  Industrials     12  2022-01-20    0.414343   \n600895.XSHG    MainBoard  Industrials     13  2022-01-21    0.089894   \n600895.XSHG    MainBoard  Industrials     14  2022-01-24    0.061295   \n600895.XSHG    MainBoard  Industrials     15  2022-01-25    0.981511   \n600895.XSHG    MainBoard  Industrials     16  2022-01-26    1.269307   \n600895.XSHG    MainBoard  Industrials     17  2022-01-27    2.585871   \n600895.XSHG    MainBoard  Industrials     18  2022-01-28    2.777413   \n600895.XSHG    MainBoard  Industrials     19  2022-02-07    0.673644   \n600895.XSHG    MainBoard  Industrials     20  2022-02-08    0.051598   \n600895.XSHG    MainBoard  Industrials     21  2022-02-09   -0.952449   \n600895.XSHG    MainBoard  Industrials     22  2022-02-10   -0.829295   \n600895.XSHG    MainBoard  Industrials     23  2022-02-11   -0.545141   \n600895.XSHG    MainBoard  Industrials     24  2022-02-14   -1.010736   \n600895.XSHG    MainBoard  Industrials     25  2022-02-15   -2.324642   \n600895.XSHG    MainBoard  Industrials     26  2022-02-16   -1.794583   \n600895.XSHG    MainBoard  Industrials     27  2022-02-17   -0.747343   \n600895.XSHG    MainBoard  Industrials     28  2022-02-18   -0.425723   \n600895.XSHG    MainBoard  Industrials     29  2022-02-21   -0.459633   \n600895.XSHG    MainBoard  Industrials     30  2022-02-22    0.202059   \n\n               ep_ratio_ttm  pb_ratio_ttm  sp_ratio_ttm  MACD_DIFF  MACD_DEA  \\\norder_book_id                                                                  \n600895.XSHG       -1.216425      1.234824     -1.216425   0.921928  0.673301   \n600895.XSHG       -1.441653      1.481524     -1.441653   1.105318  0.763155   \n600895.XSHG       -1.291895      1.317057     -1.291895   1.190093  0.855655   \n600895.XSHG       -1.515946      1.563757     -1.515946   1.348530  0.968186   \n600895.XSHG       -1.366971      1.399290     -1.366971   1.410984  1.073399   \n600895.XSHG       -1.385678      1.419849     -1.385678   1.465876  1.170919   \n600895.XSHG       -1.216425      1.234824     -1.216425   1.438272  1.242222   \n600895.XSHG       -1.064283      1.070358     -1.064283   1.353945  1.278756   \n600895.XSHG       -0.339134      0.309701     -0.339134   1.005894  1.223340   \n600895.XSHG       -0.459190      0.433051     -0.459190   0.781755  1.124498   \n600895.XSHG       -0.578277      0.556400     -0.578277   0.657251  1.015146   \n600895.XSHG       -0.479105      0.453609     -0.479105   0.528689  0.896399   \n600895.XSHG       -0.518854      0.494725     -0.518854   0.451574  0.782647   \n600895.XSHG       -0.518854      0.494725     -0.518854   0.400456  0.679215   \n600895.XSHG       -0.238337      0.206909     -0.238337   0.263965  0.563275   \n600895.XSHG        0.808727     -0.821005      0.808727  -0.211262  0.354951   \n600895.XSHG        0.939358     -0.944355      0.939358  -0.612305  0.090761   \n600895.XSHG        1.978987     -1.890037      1.978987  -1.254437 -0.276753   \n600895.XSHG        1.932332     -1.848920      1.932332  -1.713602 -0.682431   \n600895.XSHG        0.192617     -0.224815      0.192617  -1.439403 -0.940289   \n600895.XSHG        0.360098     -0.389281      0.360098  -1.254482 -1.101604   \n600895.XSHG        0.381164     -0.409840      0.381164  -1.088453 -1.190279   \n600895.XSHG        0.297075     -0.327606      0.297075  -0.901145 -1.215667   \n600895.XSHG        0.550754     -0.574306      0.550754  -0.820813 -1.216441   \n600895.XSHG        0.700710     -0.718214      0.700710  -0.787236 -1.208895   \n600895.XSHG        0.808727     -0.821005      0.808727  -0.775485 -1.200000   \n600895.XSHG        0.765429     -0.779889      0.765429  -0.727806 -1.181289   \n600895.XSHG        1.049069     -1.047147      1.049069  -0.766440 -1.175716   \n600895.XSHG        0.808727     -0.821005      0.808727  -0.689988 -1.152665   \n600895.XSHG        0.808727     -0.821005      0.808727  -0.607781 -1.114231   \n600895.XSHG        1.248524     -1.232171      1.248524  -0.673892 -1.099563   \n\n               ...     RSI10        SY    BIAS20     VOL30     VOL60  \\\norder_book_id  ...                                                     \n600895.XSHG    ...  0.830985  0.314678  1.071733 -0.805060  0.381789   \n600895.XSHG    ...  0.212479  1.398567  1.354871  0.068267  0.609952   \n600895.XSHG    ...  0.712399  1.398567  1.059079  0.194014  0.687841   \n600895.XSHG    ...  1.917662  2.482457  1.422083  0.644449  0.832841   \n600895.XSHG    ...  1.520467  1.398567  1.171990  0.725082  0.891935   \n600895.XSHG    ...  1.520467  1.398567  1.197558  0.692807  0.949128   \n600895.XSHG    ...  0.990133  1.398567  0.926519  0.760997  1.029953   \n600895.XSHG    ...  0.699809  1.398567  0.699100  0.905180  1.120005   \n600895.XSHG    ... -0.197557  0.314678 -0.356862  1.366416  1.443199   \n600895.XSHG    ... -0.108217  0.314678 -0.122754  1.498242  1.286081   \n600895.XSHG    ... -0.291906  0.314678  0.092590  1.501061  1.235891   \n600895.XSHG    ... -0.798471  0.314678  0.027517  1.485011  1.212000   \n600895.XSHG    ... -0.601576  0.314678  0.141724  1.480643  1.153279   \n600895.XSHG    ... -1.153157  0.314678  0.176064 -0.400130  0.899865   \n600895.XSHG    ... -1.219111 -0.769212 -0.196841 -0.793888  0.720258   \n600895.XSHG    ... -1.580098 -0.769212 -1.592043 -0.486309 -0.106192   \n600895.XSHG    ... -1.568000 -0.769212 -1.639494 -0.432173 -0.726624   \n600895.XSHG    ... -1.690060 -0.769212 -2.850093 -0.204325 -0.766860   \n600895.XSHG    ... -1.502901 -0.769212 -2.597162 -0.174806 -0.848556   \n600895.XSHG    ...  0.120642 -0.769212 -0.071547  0.683375 -0.357696   \n600895.XSHG    ... -0.050163 -0.769212 -0.199548  1.040132 -0.484286   \n600895.XSHG    ... -0.010349 -1.853102 -0.090977  0.330282 -0.488832   \n600895.XSHG    ...  0.019917 -0.769212  0.155762 -0.221348 -0.598301   \n600895.XSHG    ... -0.095780 -0.769212 -0.059457 -0.489805 -0.854661   \n600895.XSHG    ... -0.029860 -0.769212 -0.120796 -0.735928 -0.981279   \n600895.XSHG    ...  0.523541 -0.769212 -0.110319 -0.992568 -1.148178   \n600895.XSHG    ...  0.650963  0.314678  0.104520 -1.215036 -1.305272   \n600895.XSHG    ...  1.338615 -0.769212 -0.147261 -1.412943 -1.337707   \n600895.XSHG    ...  1.454535 -0.769212  0.287900 -1.562724 -1.488707   \n600895.XSHG    ... -0.693550 -0.769212  0.383838 -1.494695 -1.460457   \n600895.XSHG    ... -0.921859 -0.769212 -0.117694 -1.954221 -1.500410   \n\n                 VOL120    VOLT20    VOLT60        AR        BR  \norder_book_id                                                    \n600895.XSHG    1.997874 -0.962711  2.157914  0.387279  0.937609  \n600895.XSHG    2.028502 -1.078562  1.965948  1.177424  2.052567  \n600895.XSHG    1.972035 -1.194954  1.775954  1.484457  1.288310  \n600895.XSHG    1.769531 -1.201256  1.604993  1.508710  1.727722  \n600895.XSHG    1.636550 -1.186633  1.421105  1.472095  1.525703  \n600895.XSHG    1.408502 -1.177232  1.226002  1.594011  1.678640  \n600895.XSHG    0.660111 -1.177232  1.003099  1.461698  1.513996  \n600895.XSHG    0.373510 -1.173836  0.781761  1.594011  1.183280  \n600895.XSHG    0.328504 -0.937018  0.566887  1.231709  0.516034  \n600895.XSHG    0.230992 -0.809623  0.269612 -0.002596 -0.607169  \n600895.XSHG    0.151525 -0.739951 -0.089156  0.062890 -0.121760  \n600895.XSHG    0.019856 -0.739367 -0.502615  0.142039 -0.251375  \n600895.XSHG   -0.125814 -0.691721 -0.812769  0.328703  0.112933  \n600895.XSHG   -0.222488 -0.640565 -0.993547 -0.087498 -0.082160  \n600895.XSHG   -0.312906 -0.526770 -1.529380 -0.335997 -0.311516  \n600895.XSHG   -0.341500 -0.032012 -1.427718 -0.999554 -1.006823  \n600895.XSHG   -0.414816  0.365903 -1.249910 -1.208136 -1.059697  \n600895.XSHG   -0.490443  1.053782 -0.917465 -1.920356 -1.701726  \n600895.XSHG   -0.557985  1.532119 -0.656326 -1.899036 -1.434914  \n600895.XSHG   -0.502634  1.541111 -0.625134 -0.553484  0.025249  \n600895.XSHG   -0.507735  1.523639 -0.589214 -0.300232 -0.330203  \n600895.XSHG   -0.536888  1.440403 -0.545378 -0.172477 -0.234402  \n600895.XSHG   -0.594904  1.353021 -0.509948 -0.128950 -0.134574  \n600895.XSHG   -0.694225  1.199693 -0.474556 -0.317003 -0.266953  \n600895.XSHG   -0.765555  1.059098 -0.423441 -0.309241 -0.355173  \n600895.XSHG   -0.835079  0.872321 -0.376313 -0.371922 -0.411211  \n600895.XSHG   -0.908779  0.678051 -0.325503 -0.350347 -0.410772  \n600895.XSHG   -1.061253  0.512340 -0.259469 -0.783255 -0.841073  \n600895.XSHG   -1.196868  0.468942 -0.207574 -0.630782 -0.773618  \n600895.XSHG   -1.231950  0.383114 -0.166131 -0.955340 -1.094915  \n600895.XSHG   -1.275669  0.285906 -0.091726 -1.118821 -1.132012  \n\n[31 rows x 21 columns]",
      "text/html": "<div>\n<style scoped>\n    .dataframe tbody tr th:only-of-type {\n        vertical-align: middle;\n    }\n\n    .dataframe tbody tr th {\n        vertical-align: top;\n    }\n\n    .dataframe thead th {\n        text-align: right;\n    }\n</style>\n<table border=\"1\" class=\"dataframe\">\n  <thead>\n    <tr style=\"text-align: right;\">\n      <th></th>\n      <th>board_type</th>\n      <th>sector_code</th>\n      <th>month</th>\n      <th>date</th>\n      <th>yield_rate</th>\n      <th>ep_ratio_ttm</th>\n      <th>pb_ratio_ttm</th>\n      <th>sp_ratio_ttm</th>\n      <th>MACD_DIFF</th>\n      <th>MACD_DEA</th>\n      <th>...</th>\n      <th>RSI10</th>\n      <th>SY</th>\n      <th>BIAS20</th>\n      <th>VOL30</th>\n      <th>VOL60</th>\n      <th>VOL120</th>\n      <th>VOLT20</th>\n      <th>VOLT60</th>\n      <th>AR</th>\n      <th>BR</th>\n    </tr>\n    <tr>\n      <th>order_book_id</th>\n      <th></th>\n      <th></th>\n      <th></th>\n      <th></th>\n      <th></th>\n      <th></th>\n      <th></th>\n      <th></th>\n      <th></th>\n      <th></th>\n      <th></th>\n      <th></th>\n      <th></th>\n      <th></th>\n      <th></th>\n      <th></th>\n      <th></th>\n      <th></th>\n      <th></th>\n      <th></th>\n      <th></th>\n    </tr>\n  </thead>\n  <tbody>\n    <tr>\n      <th>600895.XSHG</th>\n      <td>MainBoard</td>\n      <td>Industrials</td>\n      <td>0</td>\n      <td>2022-01-04</td>\n      <td>0.120287</td>\n      <td>-1.216425</td>\n      <td>1.234824</td>\n      <td>-1.216425</td>\n      <td>0.921928</td>\n      <td>0.673301</td>\n      <td>...</td>\n      <td>0.830985</td>\n      <td>0.314678</td>\n      <td>1.071733</td>\n      <td>-0.805060</td>\n      <td>0.381789</td>\n      <td>1.997874</td>\n      <td>-0.962711</td>\n      <td>2.157914</td>\n      <td>0.387279</td>\n      <td>0.937609</td>\n    </tr>\n    <tr>\n      <th>600895.XSHG</th>\n      <td>MainBoard</td>\n      <td>Industrials</td>\n      <td>1</td>\n      <td>2022-01-05</td>\n      <td>-0.074175</td>\n      <td>-1.441653</td>\n      <td>1.481524</td>\n      <td>-1.441653</td>\n      <td>1.105318</td>\n      <td>0.763155</td>\n      <td>...</td>\n      <td>0.212479</td>\n      <td>1.398567</td>\n      <td>1.354871</td>\n      <td>0.068267</td>\n      <td>0.609952</td>\n      <td>2.028502</td>\n      <td>-1.078562</td>\n      <td>1.965948</td>\n      <td>1.177424</td>\n      <td>2.052567</td>\n    </tr>\n    <tr>\n      <th>600895.XSHG</th>\n      <td>MainBoard</td>\n      <td>Industrials</td>\n      <td>2</td>\n      <td>2022-01-06</td>\n      <td>0.107779</td>\n      <td>-1.291895</td>\n      <td>1.317057</td>\n      <td>-1.291895</td>\n      <td>1.190093</td>\n      <td>0.855655</td>\n      <td>...</td>\n      <td>0.712399</td>\n      <td>1.398567</td>\n      <td>1.059079</td>\n      <td>0.194014</td>\n      <td>0.687841</td>\n      <td>1.972035</td>\n      <td>-1.194954</td>\n      <td>1.775954</td>\n      <td>1.484457</td>\n      <td>1.288310</td>\n    </tr>\n    <tr>\n      <th>600895.XSHG</th>\n      <td>MainBoard</td>\n      <td>Industrials</td>\n      <td>3</td>\n      <td>2022-01-07</td>\n      <td>-0.258476</td>\n      <td>-1.515946</td>\n      <td>1.563757</td>\n      <td>-1.515946</td>\n      <td>1.348530</td>\n      <td>0.968186</td>\n      <td>...</td>\n      <td>1.917662</td>\n      <td>2.482457</td>\n      <td>1.422083</td>\n      <td>0.644449</td>\n      <td>0.832841</td>\n      <td>1.769531</td>\n      <td>-1.201256</td>\n      <td>1.604993</td>\n      <td>1.508710</td>\n      <td>1.727722</td>\n    </tr>\n    <tr>\n      <th>600895.XSHG</th>\n      <td>MainBoard</td>\n      <td>Industrials</td>\n      <td>4</td>\n      <td>2022-01-10</td>\n      <td>-0.251266</td>\n      <td>-1.366971</td>\n      <td>1.399290</td>\n      <td>-1.366971</td>\n      <td>1.410984</td>\n      <td>1.073399</td>\n      <td>...</td>\n      <td>1.520467</td>\n      <td>1.398567</td>\n      <td>1.171990</td>\n      <td>0.725082</td>\n      <td>0.891935</td>\n      <td>1.636550</td>\n      <td>-1.186633</td>\n      <td>1.421105</td>\n      <td>1.472095</td>\n      <td>1.525703</td>\n    </tr>\n    <tr>\n      <th>600895.XSHG</th>\n      <td>MainBoard</td>\n      <td>Industrials</td>\n      <td>5</td>\n      <td>2022-01-11</td>\n      <td>-0.344670</td>\n      <td>-1.385678</td>\n      <td>1.419849</td>\n      <td>-1.385678</td>\n      <td>1.465876</td>\n      <td>1.170919</td>\n      <td>...</td>\n      <td>1.520467</td>\n      <td>1.398567</td>\n      <td>1.197558</td>\n      <td>0.692807</td>\n      <td>0.949128</td>\n      <td>1.408502</td>\n      <td>-1.177232</td>\n      <td>1.226002</td>\n      <td>1.594011</td>\n      <td>1.678640</td>\n    </tr>\n    <tr>\n      <th>600895.XSHG</th>\n      <td>MainBoard</td>\n      <td>Industrials</td>\n      <td>6</td>\n      <td>2022-01-12</td>\n      <td>-0.180630</td>\n      <td>-1.216425</td>\n      <td>1.234824</td>\n      <td>-1.216425</td>\n      <td>1.438272</td>\n      <td>1.242222</td>\n      <td>...</td>\n      <td>0.990133</td>\n      <td>1.398567</td>\n      <td>0.926519</td>\n      <td>0.760997</td>\n      <td>1.029953</td>\n      <td>0.660111</td>\n      <td>-1.177232</td>\n      <td>1.003099</td>\n      <td>1.461698</td>\n      <td>1.513996</td>\n    </tr>\n    <tr>\n      <th>600895.XSHG</th>\n      <td>MainBoard</td>\n      <td>Industrials</td>\n      <td>7</td>\n      <td>2022-01-13</td>\n      <td>-0.268461</td>\n      <td>-1.064283</td>\n      <td>1.070358</td>\n      <td>-1.064283</td>\n      <td>1.353945</td>\n      <td>1.278756</td>\n      <td>...</td>\n      <td>0.699809</td>\n      <td>1.398567</td>\n      <td>0.699100</td>\n      <td>0.905180</td>\n      <td>1.120005</td>\n      <td>0.373510</td>\n      <td>-1.173836</td>\n      <td>0.781761</td>\n      <td>1.594011</td>\n      <td>1.183280</td>\n    </tr>\n    <tr>\n      <th>600895.XSHG</th>\n      <td>MainBoard</td>\n      <td>Industrials</td>\n      <td>8</td>\n      <td>2022-01-14</td>\n      <td>0.473781</td>\n      <td>-0.339134</td>\n      <td>0.309701</td>\n      <td>-0.339134</td>\n      <td>1.005894</td>\n      <td>1.223340</td>\n      <td>...</td>\n      <td>-0.197557</td>\n      <td>0.314678</td>\n      <td>-0.356862</td>\n      <td>1.366416</td>\n      <td>1.443199</td>\n      <td>0.328504</td>\n      <td>-0.937018</td>\n      <td>0.566887</td>\n      <td>1.231709</td>\n      <td>0.516034</td>\n    </tr>\n    <tr>\n      <th>600895.XSHG</th>\n      <td>MainBoard</td>\n      <td>Industrials</td>\n      <td>9</td>\n      <td>2022-01-17</td>\n      <td>0.379891</td>\n      <td>-0.459190</td>\n      <td>0.433051</td>\n      <td>-0.459190</td>\n      <td>0.781755</td>\n      <td>1.124498</td>\n      <td>...</td>\n      <td>-0.108217</td>\n      <td>0.314678</td>\n      <td>-0.122754</td>\n      <td>1.498242</td>\n      <td>1.286081</td>\n      <td>0.230992</td>\n      <td>-0.809623</td>\n      <td>0.269612</td>\n      <td>-0.002596</td>\n      <td>-0.607169</td>\n    </tr>\n    <tr>\n      <th>600895.XSHG</th>\n      <td>MainBoard</td>\n      <td>Industrials</td>\n      <td>10</td>\n      <td>2022-01-18</td>\n      <td>-0.037034</td>\n      <td>-0.578277</td>\n      <td>0.556400</td>\n      <td>-0.578277</td>\n      <td>0.657251</td>\n      <td>1.015146</td>\n      <td>...</td>\n      <td>-0.291906</td>\n      <td>0.314678</td>\n      <td>0.092590</td>\n      <td>1.501061</td>\n      <td>1.235891</td>\n      <td>0.151525</td>\n      <td>-0.739951</td>\n      <td>-0.089156</td>\n      <td>0.062890</td>\n      <td>-0.121760</td>\n    </tr>\n    <tr>\n      <th>600895.XSHG</th>\n      <td>MainBoard</td>\n      <td>Industrials</td>\n      <td>11</td>\n      <td>2022-01-19</td>\n      <td>0.315583</td>\n      <td>-0.479105</td>\n      <td>0.453609</td>\n      <td>-0.479105</td>\n      <td>0.528689</td>\n      <td>0.896399</td>\n      <td>...</td>\n      <td>-0.798471</td>\n      <td>0.314678</td>\n      <td>0.027517</td>\n      <td>1.485011</td>\n      <td>1.212000</td>\n      <td>0.019856</td>\n      <td>-0.739367</td>\n      <td>-0.502615</td>\n      <td>0.142039</td>\n      <td>-0.251375</td>\n    </tr>\n    <tr>\n      <th>600895.XSHG</th>\n      <td>MainBoard</td>\n      <td>Industrials</td>\n      <td>12</td>\n      <td>2022-01-20</td>\n      <td>0.414343</td>\n      <td>-0.518854</td>\n      <td>0.494725</td>\n      <td>-0.518854</td>\n      <td>0.451574</td>\n      <td>0.782647</td>\n      <td>...</td>\n      <td>-0.601576</td>\n      <td>0.314678</td>\n      <td>0.141724</td>\n      <td>1.480643</td>\n      <td>1.153279</td>\n      <td>-0.125814</td>\n      <td>-0.691721</td>\n      <td>-0.812769</td>\n      <td>0.328703</td>\n      <td>0.112933</td>\n    </tr>\n    <tr>\n      <th>600895.XSHG</th>\n      <td>MainBoard</td>\n      <td>Industrials</td>\n      <td>13</td>\n      <td>2022-01-21</td>\n      <td>0.089894</td>\n      <td>-0.518854</td>\n      <td>0.494725</td>\n      <td>-0.518854</td>\n      <td>0.400456</td>\n      <td>0.679215</td>\n      <td>...</td>\n      <td>-1.153157</td>\n      <td>0.314678</td>\n      <td>0.176064</td>\n      <td>-0.400130</td>\n      <td>0.899865</td>\n      <td>-0.222488</td>\n      <td>-0.640565</td>\n      <td>-0.993547</td>\n      <td>-0.087498</td>\n      <td>-0.082160</td>\n    </tr>\n    <tr>\n      <th>600895.XSHG</th>\n      <td>MainBoard</td>\n      <td>Industrials</td>\n      <td>14</td>\n      <td>2022-01-24</td>\n      <td>0.061295</td>\n      <td>-0.238337</td>\n      <td>0.206909</td>\n      <td>-0.238337</td>\n      <td>0.263965</td>\n      <td>0.563275</td>\n      <td>...</td>\n      <td>-1.219111</td>\n      <td>-0.769212</td>\n      <td>-0.196841</td>\n      <td>-0.793888</td>\n      <td>0.720258</td>\n      <td>-0.312906</td>\n      <td>-0.526770</td>\n      <td>-1.529380</td>\n      <td>-0.335997</td>\n      <td>-0.311516</td>\n    </tr>\n    <tr>\n      <th>600895.XSHG</th>\n      <td>MainBoard</td>\n      <td>Industrials</td>\n      <td>15</td>\n      <td>2022-01-25</td>\n      <td>0.981511</td>\n      <td>0.808727</td>\n      <td>-0.821005</td>\n      <td>0.808727</td>\n      <td>-0.211262</td>\n      <td>0.354951</td>\n      <td>...</td>\n      <td>-1.580098</td>\n      <td>-0.769212</td>\n      <td>-1.592043</td>\n      <td>-0.486309</td>\n      <td>-0.106192</td>\n      <td>-0.341500</td>\n      <td>-0.032012</td>\n      <td>-1.427718</td>\n      <td>-0.999554</td>\n      <td>-1.006823</td>\n    </tr>\n    <tr>\n      <th>600895.XSHG</th>\n      <td>MainBoard</td>\n      <td>Industrials</td>\n      <td>16</td>\n      <td>2022-01-26</td>\n      <td>1.269307</td>\n      <td>0.939358</td>\n      <td>-0.944355</td>\n      <td>0.939358</td>\n      <td>-0.612305</td>\n      <td>0.090761</td>\n      <td>...</td>\n      <td>-1.568000</td>\n      <td>-0.769212</td>\n      <td>-1.639494</td>\n      <td>-0.432173</td>\n      <td>-0.726624</td>\n      <td>-0.414816</td>\n      <td>0.365903</td>\n      <td>-1.249910</td>\n      <td>-1.208136</td>\n      <td>-1.059697</td>\n    </tr>\n    <tr>\n      <th>600895.XSHG</th>\n      <td>MainBoard</td>\n      <td>Industrials</td>\n      <td>17</td>\n      <td>2022-01-27</td>\n      <td>2.585871</td>\n      <td>1.978987</td>\n      <td>-1.890037</td>\n      <td>1.978987</td>\n      <td>-1.254437</td>\n      <td>-0.276753</td>\n      <td>...</td>\n      <td>-1.690060</td>\n      <td>-0.769212</td>\n      <td>-2.850093</td>\n      <td>-0.204325</td>\n      <td>-0.766860</td>\n      <td>-0.490443</td>\n      <td>1.053782</td>\n      <td>-0.917465</td>\n      <td>-1.920356</td>\n      <td>-1.701726</td>\n    </tr>\n    <tr>\n      <th>600895.XSHG</th>\n      <td>MainBoard</td>\n      <td>Industrials</td>\n      <td>18</td>\n      <td>2022-01-28</td>\n      <td>2.777413</td>\n      <td>1.932332</td>\n      <td>-1.848920</td>\n      <td>1.932332</td>\n      <td>-1.713602</td>\n      <td>-0.682431</td>\n      <td>...</td>\n      <td>-1.502901</td>\n      <td>-0.769212</td>\n      <td>-2.597162</td>\n      <td>-0.174806</td>\n      <td>-0.848556</td>\n      <td>-0.557985</td>\n      <td>1.532119</td>\n      <td>-0.656326</td>\n      <td>-1.899036</td>\n      <td>-1.434914</td>\n    </tr>\n    <tr>\n      <th>600895.XSHG</th>\n      <td>MainBoard</td>\n      <td>Industrials</td>\n      <td>19</td>\n      <td>2022-02-07</td>\n      <td>0.673644</td>\n      <td>0.192617</td>\n      <td>-0.224815</td>\n      <td>0.192617</td>\n      <td>-1.439403</td>\n      <td>-0.940289</td>\n      <td>...</td>\n      <td>0.120642</td>\n      <td>-0.769212</td>\n      <td>-0.071547</td>\n      <td>0.683375</td>\n      <td>-0.357696</td>\n      <td>-0.502634</td>\n      <td>1.541111</td>\n      <td>-0.625134</td>\n      <td>-0.553484</td>\n      <td>0.025249</td>\n    </tr>\n    <tr>\n      <th>600895.XSHG</th>\n      <td>MainBoard</td>\n      <td>Industrials</td>\n      <td>20</td>\n      <td>2022-02-08</td>\n      <td>0.051598</td>\n      <td>0.360098</td>\n      <td>-0.389281</td>\n      <td>0.360098</td>\n      <td>-1.254482</td>\n      <td>-1.101604</td>\n      <td>...</td>\n      <td>-0.050163</td>\n      <td>-0.769212</td>\n      <td>-0.199548</td>\n      <td>1.040132</td>\n      <td>-0.484286</td>\n      <td>-0.507735</td>\n      <td>1.523639</td>\n      <td>-0.589214</td>\n      <td>-0.300232</td>\n      <td>-0.330203</td>\n    </tr>\n    <tr>\n      <th>600895.XSHG</th>\n      <td>MainBoard</td>\n      <td>Industrials</td>\n      <td>21</td>\n      <td>2022-02-09</td>\n      <td>-0.952449</td>\n      <td>0.381164</td>\n      <td>-0.409840</td>\n      <td>0.381164</td>\n      <td>-1.088453</td>\n      <td>-1.190279</td>\n      <td>...</td>\n      <td>-0.010349</td>\n      <td>-1.853102</td>\n      <td>-0.090977</td>\n      <td>0.330282</td>\n      <td>-0.488832</td>\n      <td>-0.536888</td>\n      <td>1.440403</td>\n      <td>-0.545378</td>\n      <td>-0.172477</td>\n      <td>-0.234402</td>\n    </tr>\n    <tr>\n      <th>600895.XSHG</th>\n      <td>MainBoard</td>\n      <td>Industrials</td>\n      <td>22</td>\n      <td>2022-02-10</td>\n      <td>-0.829295</td>\n      <td>0.297075</td>\n      <td>-0.327606</td>\n      <td>0.297075</td>\n      <td>-0.901145</td>\n      <td>-1.215667</td>\n      <td>...</td>\n      <td>0.019917</td>\n      <td>-0.769212</td>\n      <td>0.155762</td>\n      <td>-0.221348</td>\n      <td>-0.598301</td>\n      <td>-0.594904</td>\n      <td>1.353021</td>\n      <td>-0.509948</td>\n      <td>-0.128950</td>\n      <td>-0.134574</td>\n    </tr>\n    <tr>\n      <th>600895.XSHG</th>\n      <td>MainBoard</td>\n      <td>Industrials</td>\n      <td>23</td>\n      <td>2022-02-11</td>\n      <td>-0.545141</td>\n      <td>0.550754</td>\n      <td>-0.574306</td>\n      <td>0.550754</td>\n      <td>-0.820813</td>\n      <td>-1.216441</td>\n      <td>...</td>\n      <td>-0.095780</td>\n      <td>-0.769212</td>\n      <td>-0.059457</td>\n      <td>-0.489805</td>\n      <td>-0.854661</td>\n      <td>-0.694225</td>\n      <td>1.199693</td>\n      <td>-0.474556</td>\n      <td>-0.317003</td>\n      <td>-0.266953</td>\n    </tr>\n    <tr>\n      <th>600895.XSHG</th>\n      <td>MainBoard</td>\n      <td>Industrials</td>\n      <td>24</td>\n      <td>2022-02-14</td>\n      <td>-1.010736</td>\n      <td>0.700710</td>\n      <td>-0.718214</td>\n      <td>0.700710</td>\n      <td>-0.787236</td>\n      <td>-1.208895</td>\n      <td>...</td>\n      <td>-0.029860</td>\n      <td>-0.769212</td>\n      <td>-0.120796</td>\n      <td>-0.735928</td>\n      <td>-0.981279</td>\n      <td>-0.765555</td>\n      <td>1.059098</td>\n      <td>-0.423441</td>\n      <td>-0.309241</td>\n      <td>-0.355173</td>\n    </tr>\n    <tr>\n      <th>600895.XSHG</th>\n      <td>MainBoard</td>\n      <td>Industrials</td>\n      <td>25</td>\n      <td>2022-02-15</td>\n      <td>-2.324642</td>\n      <td>0.808727</td>\n      <td>-0.821005</td>\n      <td>0.808727</td>\n      <td>-0.775485</td>\n      <td>-1.200000</td>\n      <td>...</td>\n      <td>0.523541</td>\n      <td>-0.769212</td>\n      <td>-0.110319</td>\n      <td>-0.992568</td>\n      <td>-1.148178</td>\n      <td>-0.835079</td>\n      <td>0.872321</td>\n      <td>-0.376313</td>\n      <td>-0.371922</td>\n      <td>-0.411211</td>\n    </tr>\n    <tr>\n      <th>600895.XSHG</th>\n      <td>MainBoard</td>\n      <td>Industrials</td>\n      <td>26</td>\n      <td>2022-02-16</td>\n      <td>-1.794583</td>\n      <td>0.765429</td>\n      <td>-0.779889</td>\n      <td>0.765429</td>\n      <td>-0.727806</td>\n      <td>-1.181289</td>\n      <td>...</td>\n      <td>0.650963</td>\n      <td>0.314678</td>\n      <td>0.104520</td>\n      <td>-1.215036</td>\n      <td>-1.305272</td>\n      <td>-0.908779</td>\n      <td>0.678051</td>\n      <td>-0.325503</td>\n      <td>-0.350347</td>\n      <td>-0.410772</td>\n    </tr>\n    <tr>\n      <th>600895.XSHG</th>\n      <td>MainBoard</td>\n      <td>Industrials</td>\n      <td>27</td>\n      <td>2022-02-17</td>\n      <td>-0.747343</td>\n      <td>1.049069</td>\n      <td>-1.047147</td>\n      <td>1.049069</td>\n      <td>-0.766440</td>\n      <td>-1.175716</td>\n      <td>...</td>\n      <td>1.338615</td>\n      <td>-0.769212</td>\n      <td>-0.147261</td>\n      <td>-1.412943</td>\n      <td>-1.337707</td>\n      <td>-1.061253</td>\n      <td>0.512340</td>\n      <td>-0.259469</td>\n      <td>-0.783255</td>\n      <td>-0.841073</td>\n    </tr>\n    <tr>\n      <th>600895.XSHG</th>\n      <td>MainBoard</td>\n      <td>Industrials</td>\n      <td>28</td>\n      <td>2022-02-18</td>\n      <td>-0.425723</td>\n      <td>0.808727</td>\n      <td>-0.821005</td>\n      <td>0.808727</td>\n      <td>-0.689988</td>\n      <td>-1.152665</td>\n      <td>...</td>\n      <td>1.454535</td>\n      <td>-0.769212</td>\n      <td>0.287900</td>\n      <td>-1.562724</td>\n      <td>-1.488707</td>\n      <td>-1.196868</td>\n      <td>0.468942</td>\n      <td>-0.207574</td>\n      <td>-0.630782</td>\n      <td>-0.773618</td>\n    </tr>\n    <tr>\n      <th>600895.XSHG</th>\n      <td>MainBoard</td>\n      <td>Industrials</td>\n      <td>29</td>\n      <td>2022-02-21</td>\n      <td>-0.459633</td>\n      <td>0.808727</td>\n      <td>-0.821005</td>\n      <td>0.808727</td>\n      <td>-0.607781</td>\n      <td>-1.114231</td>\n      <td>...</td>\n      <td>-0.693550</td>\n      <td>-0.769212</td>\n      <td>0.383838</td>\n      <td>-1.494695</td>\n      <td>-1.460457</td>\n      <td>-1.231950</td>\n      <td>0.383114</td>\n      <td>-0.166131</td>\n      <td>-0.955340</td>\n      <td>-1.094915</td>\n    </tr>\n    <tr>\n      <th>600895.XSHG</th>\n      <td>MainBoard</td>\n      <td>Industrials</td>\n      <td>30</td>\n      <td>2022-02-22</td>\n      <td>0.202059</td>\n      <td>1.248524</td>\n      <td>-1.232171</td>\n      <td>1.248524</td>\n      <td>-0.673892</td>\n      <td>-1.099563</td>\n      <td>...</td>\n      <td>-0.921859</td>\n      <td>-0.769212</td>\n      <td>-0.117694</td>\n      <td>-1.954221</td>\n      <td>-1.500410</td>\n      <td>-1.275669</td>\n      <td>0.285906</td>\n      <td>-0.091726</td>\n      <td>-1.118821</td>\n      <td>-1.132012</td>\n    </tr>\n  </tbody>\n</table>\n<p>31 rows × 21 columns</p>\n</div>"
     },
     "execution_count": 10,
     "metadata": {},
     "output_type": "execute_result"
    }
   ],
   "source": [
    "df = pd.DataFrame()\n",
    "\n",
    "for i_csv in range(para.month_num):\n",
    "    df = pd.read_csv(para.data_path +'/' + str(i_csv) + '.csv', index_col='order_book_id')\n",
    "\n",
    "df"
   ],
   "metadata": {
    "collapsed": false,
    "pycharm": {
     "name": "#%%\n"
    }
   }
  },
  {
   "cell_type": "code",
   "execution_count": 11,
   "outputs": [
    {
     "name": "stdout",
     "output_type": "stream",
     "text": [
      "tensor([0, 0, 0, 0, 1, 1, 1, 1, 1, 1, 1, 1, 1, 1, 1, 1, 1, 1, 1, 1, 1, 1, 1, 1,\n",
      "        1, 1, 1, 1, 1, 1, 1])\n",
      "tensor([0, 0, 0, 0, 1, 0, 0, 1, 1, 1, 1, 0, 1, 1, 1, 1, 0, 0, 0, 0, 1, 0, 0, 1,\n",
      "        1, 0, 0, 1, 1, 1, 1])\n",
      "tensor([1.0000, 0.5926])\n",
      "tensor(0.6452)\n",
      "1    11\n",
      "0     4\n",
      "Name: predict_return_bin, dtype: int64\n",
      "1    16\n",
      "0    15\n",
      "Name: return_bin, dtype: int64\n"
     ]
    }
   ],
   "source": [
    "import torchmetrics\n",
    "import time\n",
    "import matplotlib.pyplot as plt\n",
    "import torch.nn.functional as F\n",
    "\n",
    "precision = torchmetrics.Precision(average='none', num_classes=para.classification_n)\n",
    "accuracy = torchmetrics.Accuracy()\n",
    "\n",
    "# 插入预测数据\n",
    "df = insert_predict(df=df, model_path=para.model_path, out_nums=para.classification_n, column_name='2c')\n",
    "\n",
    "# 综合多个预测数据\n",
    "df.insert(loc=0, column='predict_return_bin', value=np.nan)\n",
    "df.loc[df['predict_return_bin_2c'].isin([0,]), 'predict_return_bin'] = 0\n",
    "df['predict_return_bin'].replace(to_replace=np.nan, value=1, inplace=True)\n",
    "df['predict_return_bin'] = df['predict_return_bin'].astype('int64')\n",
    "\n",
    "df.insert(loc=0, column='probability', value=np.nan)\n",
    "for stock_id in range(len(df.index)):\n",
    "    df.iloc[stock_id, 0] = F.softmax(torch.tensor(df.iloc[stock_id, df.columns.get_loc('predict_tensor_2c')]), dim=0).numpy()[0]\n",
    "\n",
    "# 插入实际 return_bin 列\n",
    "df.insert(loc=0, column='return_bin', value=np.nan)\n",
    "df.loc[df['yield_rate'] > 0.0, 'return_bin'] = 0\n",
    "df['return_bin'].replace(to_replace=np.nan, value=1, inplace=True)\n",
    "df['return_bin'] = df['return_bin'].astype('int64')\n",
    "\n",
    "# 计算精确率\n",
    "df = df.sort_values(by='probability', ascending=False)\n",
    "\n",
    "pred = torch.tensor(df['predict_return_bin']).type(torch.LongTensor)\n",
    "target = torch.tensor(df['return_bin']).type(torch.LongTensor)\n",
    "\n",
    "print(pred)\n",
    "print(target)\n",
    "\n",
    "print(precision(preds=pred, target=target))\n",
    "print(accuracy(preds=pred, target=target))\n",
    "\n",
    "print(df.loc[df['yield_rate']>0.0, 'predict_return_bin'].value_counts())\n",
    "print(df['return_bin'].value_counts())"
   ],
   "metadata": {
    "collapsed": false,
    "pycharm": {
     "name": "#%%\n"
    }
   }
  },
  {
   "cell_type": "code",
   "execution_count": 12,
   "outputs": [
    {
     "name": "stderr",
     "output_type": "stream",
     "text": [
      "c:\\users\\millet\\miniconda3\\envs\\torch1.8-gpu\\lib\\site-packages\\rqdatac\\client.py:197: UserWarning: rqdatac is already inited. Settings will be changed.\n",
      "  warnings.warn(\"rqdatac is already inited. Settings will be changed.\", stacklevel=0)\n"
     ]
    }
   ],
   "source": [
    "from rqdatac import get_price\n",
    "import rqdatac\n",
    "\n",
    "rqdatac.init()\n",
    "hs300_df = get_price(order_book_ids='000300.XSHG', start_date='2022-01-01', end_date='2022-03-22', fields='close')"
   ],
   "metadata": {
    "collapsed": false,
    "pycharm": {
     "name": "#%%\n"
    }
   }
  },
  {
   "cell_type": "code",
   "execution_count": 13,
   "outputs": [
    {
     "data": {
      "text/plain": "<AxesSubplot:xlabel='date'>"
     },
     "execution_count": 13,
     "metadata": {},
     "output_type": "execute_result"
    },
    {
     "data": {
      "text/plain": "<Figure size 432x288 with 1 Axes>",
      "image/png": "[encoded data removed]"
     },
     "metadata": {
      "needs_background": "light"
     },
     "output_type": "display_data"
    }
   ],
   "source": [
    "hs300 = hs300_df.reset_index(level='order_book_id').drop(labels='order_book_id', axis=1)\n",
    "hs300.rolling(5).mean().plot(grid=True)"
   ],
   "metadata": {
    "collapsed": false,
    "pycharm": {
     "name": "#%%\n"
    }
   }
  },
  {
   "cell_type": "markdown",
   "source": [
    "## 测试模型预测"
   ],
   "metadata": {
    "collapsed": false
   }
  },
  {
   "cell_type": "code",
   "execution_count": 14,
   "outputs": [
    {
     "ename": "FileNotFoundError",
     "evalue": "[Errno 2] No such file or directory: 'models/model_c2_p[[0.0, 0.3], [0.7, 1.0]]_b32_lr0.001_d0.5_e500.pth'",
     "output_type": "error",
     "traceback": [
      "\u001B[1;31m---------------------------------------------------------------------------\u001B[0m",
      "\u001B[1;31mFileNotFoundError\u001B[0m                         Traceback (most recent call last)",
      "\u001B[1;32m~\\AppData\\Local\\Temp/ipykernel_20056/1713849274.py\u001B[0m in \u001B[0;36m<module>\u001B[1;34m\u001B[0m\n\u001B[0;32m      3\u001B[0m \u001B[1;33m\u001B[0m\u001B[0m\n\u001B[0;32m      4\u001B[0m \u001B[0mmodel\u001B[0m \u001B[1;33m=\u001B[0m \u001B[0mMLP\u001B[0m\u001B[1;33m(\u001B[0m\u001B[0min_nums\u001B[0m\u001B[1;33m=\u001B[0m\u001B[1;36m22\u001B[0m\u001B[1;33m,\u001B[0m \u001B[0mout_nums\u001B[0m\u001B[1;33m=\u001B[0m\u001B[1;36m2\u001B[0m\u001B[1;33m,\u001B[0m \u001B[0mdrop_p\u001B[0m\u001B[1;33m=\u001B[0m\u001B[1;36m0.5\u001B[0m\u001B[1;33m)\u001B[0m\u001B[1;33m\u001B[0m\u001B[1;33m\u001B[0m\u001B[0m\n\u001B[1;32m----> 5\u001B[1;33m \u001B[0mmodel\u001B[0m\u001B[1;33m.\u001B[0m\u001B[0mload_state_dict\u001B[0m\u001B[1;33m(\u001B[0m\u001B[0mtorch\u001B[0m\u001B[1;33m.\u001B[0m\u001B[0mload\u001B[0m\u001B[1;33m(\u001B[0m\u001B[1;34m'models/model_c2_p[[0.0, 0.3], [0.7, 1.0]]_b32_lr0.001_d0.5_e500.pth'\u001B[0m\u001B[1;33m,\u001B[0m \u001B[0mmap_location\u001B[0m\u001B[1;33m=\u001B[0m\u001B[0mpara\u001B[0m\u001B[1;33m.\u001B[0m\u001B[0mdevice\u001B[0m\u001B[1;33m)\u001B[0m\u001B[1;33m)\u001B[0m\u001B[1;33m\u001B[0m\u001B[1;33m\u001B[0m\u001B[0m\n\u001B[0m\u001B[0;32m      6\u001B[0m \u001B[0mmodel\u001B[0m \u001B[1;33m=\u001B[0m \u001B[0mmodel\u001B[0m\u001B[1;33m.\u001B[0m\u001B[0mto\u001B[0m\u001B[1;33m(\u001B[0m\u001B[0mpara\u001B[0m\u001B[1;33m.\u001B[0m\u001B[0mdevice\u001B[0m\u001B[1;33m)\u001B[0m\u001B[1;33m\u001B[0m\u001B[1;33m\u001B[0m\u001B[0m\n\u001B[0;32m      7\u001B[0m \u001B[1;33m\u001B[0m\u001B[0m\n",
      "\u001B[1;32mc:\\users\\millet\\miniconda3\\envs\\torch1.8-gpu\\lib\\site-packages\\torch\\serialization.py\u001B[0m in \u001B[0;36mload\u001B[1;34m(f, map_location, pickle_module, **pickle_load_args)\u001B[0m\n\u001B[0;32m    577\u001B[0m         \u001B[0mpickle_load_args\u001B[0m\u001B[1;33m[\u001B[0m\u001B[1;34m'encoding'\u001B[0m\u001B[1;33m]\u001B[0m \u001B[1;33m=\u001B[0m \u001B[1;34m'utf-8'\u001B[0m\u001B[1;33m\u001B[0m\u001B[1;33m\u001B[0m\u001B[0m\n\u001B[0;32m    578\u001B[0m \u001B[1;33m\u001B[0m\u001B[0m\n\u001B[1;32m--> 579\u001B[1;33m     \u001B[1;32mwith\u001B[0m \u001B[0m_open_file_like\u001B[0m\u001B[1;33m(\u001B[0m\u001B[0mf\u001B[0m\u001B[1;33m,\u001B[0m \u001B[1;34m'rb'\u001B[0m\u001B[1;33m)\u001B[0m \u001B[1;32mas\u001B[0m \u001B[0mopened_file\u001B[0m\u001B[1;33m:\u001B[0m\u001B[1;33m\u001B[0m\u001B[1;33m\u001B[0m\u001B[0m\n\u001B[0m\u001B[0;32m    580\u001B[0m         \u001B[1;32mif\u001B[0m \u001B[0m_is_zipfile\u001B[0m\u001B[1;33m(\u001B[0m\u001B[0mopened_file\u001B[0m\u001B[1;33m)\u001B[0m\u001B[1;33m:\u001B[0m\u001B[1;33m\u001B[0m\u001B[1;33m\u001B[0m\u001B[0m\n\u001B[0;32m    581\u001B[0m             \u001B[1;31m# The zipfile reader is going to advance the current file position.\u001B[0m\u001B[1;33m\u001B[0m\u001B[1;33m\u001B[0m\u001B[1;33m\u001B[0m\u001B[0m\n",
      "\u001B[1;32mc:\\users\\millet\\miniconda3\\envs\\torch1.8-gpu\\lib\\site-packages\\torch\\serialization.py\u001B[0m in \u001B[0;36m_open_file_like\u001B[1;34m(name_or_buffer, mode)\u001B[0m\n\u001B[0;32m    228\u001B[0m \u001B[1;32mdef\u001B[0m \u001B[0m_open_file_like\u001B[0m\u001B[1;33m(\u001B[0m\u001B[0mname_or_buffer\u001B[0m\u001B[1;33m,\u001B[0m \u001B[0mmode\u001B[0m\u001B[1;33m)\u001B[0m\u001B[1;33m:\u001B[0m\u001B[1;33m\u001B[0m\u001B[1;33m\u001B[0m\u001B[0m\n\u001B[0;32m    229\u001B[0m     \u001B[1;32mif\u001B[0m \u001B[0m_is_path\u001B[0m\u001B[1;33m(\u001B[0m\u001B[0mname_or_buffer\u001B[0m\u001B[1;33m)\u001B[0m\u001B[1;33m:\u001B[0m\u001B[1;33m\u001B[0m\u001B[1;33m\u001B[0m\u001B[0m\n\u001B[1;32m--> 230\u001B[1;33m         \u001B[1;32mreturn\u001B[0m \u001B[0m_open_file\u001B[0m\u001B[1;33m(\u001B[0m\u001B[0mname_or_buffer\u001B[0m\u001B[1;33m,\u001B[0m \u001B[0mmode\u001B[0m\u001B[1;33m)\u001B[0m\u001B[1;33m\u001B[0m\u001B[1;33m\u001B[0m\u001B[0m\n\u001B[0m\u001B[0;32m    231\u001B[0m     \u001B[1;32melse\u001B[0m\u001B[1;33m:\u001B[0m\u001B[1;33m\u001B[0m\u001B[1;33m\u001B[0m\u001B[0m\n\u001B[0;32m    232\u001B[0m         \u001B[1;32mif\u001B[0m \u001B[1;34m'w'\u001B[0m \u001B[1;32min\u001B[0m \u001B[0mmode\u001B[0m\u001B[1;33m:\u001B[0m\u001B[1;33m\u001B[0m\u001B[1;33m\u001B[0m\u001B[0m\n",
      "\u001B[1;32mc:\\users\\millet\\miniconda3\\envs\\torch1.8-gpu\\lib\\site-packages\\torch\\serialization.py\u001B[0m in \u001B[0;36m__init__\u001B[1;34m(self, name, mode)\u001B[0m\n\u001B[0;32m    209\u001B[0m \u001B[1;32mclass\u001B[0m \u001B[0m_open_file\u001B[0m\u001B[1;33m(\u001B[0m\u001B[0m_opener\u001B[0m\u001B[1;33m)\u001B[0m\u001B[1;33m:\u001B[0m\u001B[1;33m\u001B[0m\u001B[1;33m\u001B[0m\u001B[0m\n\u001B[0;32m    210\u001B[0m     \u001B[1;32mdef\u001B[0m \u001B[0m__init__\u001B[0m\u001B[1;33m(\u001B[0m\u001B[0mself\u001B[0m\u001B[1;33m,\u001B[0m \u001B[0mname\u001B[0m\u001B[1;33m,\u001B[0m \u001B[0mmode\u001B[0m\u001B[1;33m)\u001B[0m\u001B[1;33m:\u001B[0m\u001B[1;33m\u001B[0m\u001B[1;33m\u001B[0m\u001B[0m\n\u001B[1;32m--> 211\u001B[1;33m         \u001B[0msuper\u001B[0m\u001B[1;33m(\u001B[0m\u001B[0m_open_file\u001B[0m\u001B[1;33m,\u001B[0m \u001B[0mself\u001B[0m\u001B[1;33m)\u001B[0m\u001B[1;33m.\u001B[0m\u001B[0m__init__\u001B[0m\u001B[1;33m(\u001B[0m\u001B[0mopen\u001B[0m\u001B[1;33m(\u001B[0m\u001B[0mname\u001B[0m\u001B[1;33m,\u001B[0m \u001B[0mmode\u001B[0m\u001B[1;33m)\u001B[0m\u001B[1;33m)\u001B[0m\u001B[1;33m\u001B[0m\u001B[1;33m\u001B[0m\u001B[0m\n\u001B[0m\u001B[0;32m    212\u001B[0m \u001B[1;33m\u001B[0m\u001B[0m\n\u001B[0;32m    213\u001B[0m     \u001B[1;32mdef\u001B[0m \u001B[0m__exit__\u001B[0m\u001B[1;33m(\u001B[0m\u001B[0mself\u001B[0m\u001B[1;33m,\u001B[0m \u001B[1;33m*\u001B[0m\u001B[0margs\u001B[0m\u001B[1;33m)\u001B[0m\u001B[1;33m:\u001B[0m\u001B[1;33m\u001B[0m\u001B[1;33m\u001B[0m\u001B[0m\n",
      "\u001B[1;31mFileNotFoundError\u001B[0m: [Errno 2] No such file or directory: 'models/model_c2_p[[0.0, 0.3], [0.7, 1.0]]_b32_lr0.001_d0.5_e500.pth'"
     ]
    }
   ],
   "source": [
    "import torch\n",
    "from my_utils.model_class import MLP5\n",
    "\n",
    "model = MLP5(in_nums=22, out_nums=2, drop_p=0.5)\n",
    "model.load_state_dict(torch.load('models/model_c2_p[[0.0, 0.3], [0.7, 1.0]]_b32_lr0.001_d0.5_e500.pth', map_location=para.device))\n",
    "model = model.to(para.device)\n",
    "\n",
    "model.eval()\n",
    "a = model(torch.Tensor([[0.5]*22]*4).to(device=para.device))\n",
    "a"
   ],
   "metadata": {
    "collapsed": false,
    "pycharm": {
     "name": "#%%\n"
    }
   }
  }
 ],
 "metadata": {
  "kernelspec": {
   "display_name": "Python 3",
   "language": "python",
   "name": "python3"
  },
  "language_info": {
   "codemirror_mode": {
    "name": "ipython",
    "version": 2
   },
   "file_extension": ".py",
   "mimetype": "text/x-python",
   "name": "python",
   "nbconvert_exporter": "python",
   "pygments_lexer": "ipython2",
   "version": "2.7.6"
  }
 },
 "nbformat": 4,
 "nbformat_minor": 0
}